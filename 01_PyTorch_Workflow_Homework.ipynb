{
  "nbformat": 4,
  "nbformat_minor": 0,
  "metadata": {
    "colab": {
      "provenance": [],
      "authorship_tag": "ABX9TyNNswt78pRyQiCSPsU0mxgL",
      "include_colab_link": true
    },
    "kernelspec": {
      "name": "python3",
      "display_name": "Python 3"
    },
    "language_info": {
      "name": "python"
    }
  },
  "cells": [
    {
      "cell_type": "markdown",
      "metadata": {
        "id": "view-in-github",
        "colab_type": "text"
      },
      "source": [
        "<a href=\"https://colab.research.google.com/github/Imaspson/PyTorchLearning/blob/main/01_PyTorch_Workflow_Homework.ipynb\" target=\"_parent\"><img src=\"https://colab.research.google.com/assets/colab-badge.svg\" alt=\"Open In Colab\"/></a>"
      ]
    },
    {
      "cell_type": "code",
      "execution_count": 1,
      "metadata": {
        "id": "w5xhSWzZPsPT"
      },
      "outputs": [],
      "source": [
        "import torch\n",
        "from torch import nn\n",
        "import matplotlib.pyplot as plt"
      ]
    },
    {
      "cell_type": "code",
      "source": [
        "torch.__version__"
      ],
      "metadata": {
        "colab": {
          "base_uri": "https://localhost:8080/",
          "height": 36
        },
        "id": "KfTA5wUlQQ0J",
        "outputId": "fe6f685c-22d8-4424-ba4e-94de406f94d3"
      },
      "execution_count": 2,
      "outputs": [
        {
          "output_type": "execute_result",
          "data": {
            "text/plain": [
              "'2.0.1+cu118'"
            ],
            "application/vnd.google.colaboratory.intrinsic+json": {
              "type": "string"
            }
          },
          "metadata": {},
          "execution_count": 2
        }
      ]
    },
    {
      "cell_type": "markdown",
      "source": [
        "# Creating *known* parameters"
      ],
      "metadata": {
        "id": "b9CKnpVNQU1v"
      }
    },
    {
      "cell_type": "code",
      "source": [
        "weight = 0.9\n",
        "bias = 0.3"
      ],
      "metadata": {
        "id": "WrKiwOZEQtrL"
      },
      "execution_count": 7,
      "outputs": []
    },
    {
      "cell_type": "markdown",
      "source": [
        "#Create data"
      ],
      "metadata": {
        "id": "REsgTSXrQxc7"
      }
    },
    {
      "cell_type": "code",
      "source": [
        "start = 0\n",
        "end = 1\n",
        "step = 0.01\n",
        "\n",
        "X = torch.arange(start, end, step).unsqueeze(dim=1)\n",
        "y = weight * X + bias\n",
        "\n",
        "X[:5], y[:5]"
      ],
      "metadata": {
        "colab": {
          "base_uri": "https://localhost:8080/"
        },
        "id": "x5fm5xImQ6dB",
        "outputId": "d4905d9f-c242-42d3-aec9-2df61557dc05"
      },
      "execution_count": 8,
      "outputs": [
        {
          "output_type": "execute_result",
          "data": {
            "text/plain": [
              "(tensor([[0.0000],\n",
              "         [0.0100],\n",
              "         [0.0200],\n",
              "         [0.0300],\n",
              "         [0.0400]]),\n",
              " tensor([[0.3000],\n",
              "         [0.3090],\n",
              "         [0.3180],\n",
              "         [0.3270],\n",
              "         [0.3360]]))"
            ]
          },
          "metadata": {},
          "execution_count": 8
        }
      ]
    },
    {
      "cell_type": "markdown",
      "source": [
        "# Create train/test split"
      ],
      "metadata": {
        "id": "nSOaDOBfRITh"
      }
    },
    {
      "cell_type": "code",
      "source": [
        "train_split = int(0.8 * len(X))\n",
        "X_train, y_train = X[:train_split], y[:train_split]\n",
        "X_test, y_test = X[train_split:], y[train_split:]\n",
        "\n",
        "len(X_train), len(y_train), len(X_test), len(y_test)"
      ],
      "metadata": {
        "colab": {
          "base_uri": "https://localhost:8080/"
        },
        "id": "oa2nMEYbR5ui",
        "outputId": "f95af355-8471-40aa-fbf7-f7ccebafd3e7"
      },
      "execution_count": 9,
      "outputs": [
        {
          "output_type": "execute_result",
          "data": {
            "text/plain": [
              "(80, 80, 20, 20)"
            ]
          },
          "metadata": {},
          "execution_count": 9
        }
      ]
    },
    {
      "cell_type": "markdown",
      "source": [
        "# Create visualisation function"
      ],
      "metadata": {
        "id": "Nl5OVVedSVvU"
      }
    },
    {
      "cell_type": "code",
      "source": [
        "def plot_predictions(train_data=X_train,\n",
        "                     train_labels=y_train,\n",
        "                     test_data=X_test,\n",
        "                     test_labels=y_test,\n",
        "                     predictions=None):\n",
        "\n",
        "  plt.figure(figsize=(10, 7))\n",
        "  plt.scatter(x=train_data, y=train_labels, c=\"b\", s=4, label=\"Training data\")\n",
        "  plt.scatter(x=test_data, y=test_labels, c=\"g\", s=4, label=\"Test data\")\n",
        "\n",
        "  if predictions is not None:\n",
        "    plt.scatter(test_data, predictions, c=\"r\", s=4, label=\"Predictions\")\n",
        "\n",
        "  plt.legend(prop={\"size\": 14})"
      ],
      "metadata": {
        "id": "ylYFigCWSkSw"
      },
      "execution_count": 22,
      "outputs": []
    },
    {
      "cell_type": "code",
      "source": [
        "plot_predictions()"
      ],
      "metadata": {
        "colab": {
          "base_uri": "https://localhost:8080/",
          "height": 619
        },
        "id": "v8VywHyZUKXn",
        "outputId": "86503c54-e0f1-4645-da46-d50d140e4a67"
      },
      "execution_count": 23,
      "outputs": [
        {
          "output_type": "display_data",
          "data": {
            "text/plain": [
              "<Figure size 1000x700 with 1 Axes>"
            ],
            "image/png": "[encoded data removed]"
          },
          "metadata": {}
        }
      ]
    },
    {
      "cell_type": "markdown",
      "source": [
        "# Create standard LR Model"
      ],
      "metadata": {
        "id": "anAtfl3zUMVy"
      }
    },
    {
      "cell_type": "code",
      "source": [
        "class LinearRegressionModel(nn.Module):\n",
        "  def __init__(self):\n",
        "    super().__init__()\n",
        "    self.weights = nn.Parameter(torch.randn(1, dtype=torch.float),\n",
        "                                requires_grad=True)\n",
        "    self.bias = nn.Parameter(torch.randn(1, dtype=torch.float),\n",
        "                             requires_grad=True)\n",
        "\n",
        "  def forward(self, x: torch.Tensor) -> torch.Tensor:\n",
        "    return self.weights * x + self.bias"
      ],
      "metadata": {
        "id": "eiz2IrkCaIR9"
      },
      "execution_count": 24,
      "outputs": []
    },
    {
      "cell_type": "markdown",
      "source": [
        "# Create instance of model"
      ],
      "metadata": {
        "id": "PyOaPWM8chpz"
      }
    },
    {
      "cell_type": "code",
      "source": [
        "torch.manual_seed(7)\n",
        "\n",
        "model = LinearRegressionModel()\n",
        "\n",
        "list(model.parameters()), model.state_dict()"
      ],
      "metadata": {
        "colab": {
          "base_uri": "https://localhost:8080/"
        },
        "id": "FduVUGTWckWH",
        "outputId": "8d5dea65-0e1c-467f-e6a4-0c90f9ba0fe5"
      },
      "execution_count": 31,
      "outputs": [
        {
          "output_type": "execute_result",
          "data": {
            "text/plain": [
              "([Parameter containing:\n",
              "  tensor([-0.1468], requires_grad=True),\n",
              "  Parameter containing:\n",
              "  tensor([0.7861], requires_grad=True)],\n",
              " OrderedDict([('weights', tensor([-0.1468])), ('bias', tensor([0.7861]))]))"
            ]
          },
          "metadata": {},
          "execution_count": 31
        }
      ]
    },
    {
      "cell_type": "markdown",
      "source": [
        "# Making predictions"
      ],
      "metadata": {
        "id": "dagrbQpLcue3"
      }
    },
    {
      "cell_type": "code",
      "source": [
        "with torch.inference_mode():\n",
        "  y_preds = model(X_test)\n",
        "\n",
        "print(f\"Number of testing samples: {len(X_test)}\")\n",
        "print(f\"Number of predictions made: {len(y_preds)}\")\n",
        "print(f\"Predicted values: \\n{y_preds}\")"
      ],
      "metadata": {
        "colab": {
          "base_uri": "https://localhost:8080/"
        },
        "id": "rCxQY_xhfG6R",
        "outputId": "273000b3-d62f-40eb-c925-4e1f0e16d0c0"
      },
      "execution_count": 32,
      "outputs": [
        {
          "output_type": "stream",
          "name": "stdout",
          "text": [
            "Number of testing samples: 20\n",
            "Number of predictions made: 20\n",
            "Predicted values: \n",
            "tensor([[0.6687],\n",
            "        [0.6672],\n",
            "        [0.6658],\n",
            "        [0.6643],\n",
            "        [0.6628],\n",
            "        [0.6614],\n",
            "        [0.6599],\n",
            "        [0.6584],\n",
            "        [0.6570],\n",
            "        [0.6555],\n",
            "        [0.6540],\n",
            "        [0.6526],\n",
            "        [0.6511],\n",
            "        [0.6496],\n",
            "        [0.6482],\n",
            "        [0.6467],\n",
            "        [0.6452],\n",
            "        [0.6438],\n",
            "        [0.6423],\n",
            "        [0.6408]])\n"
          ]
        }
      ]
    },
    {
      "cell_type": "code",
      "source": [
        "plot_predictions(predictions=y_preds)"
      ],
      "metadata": {
        "colab": {
          "base_uri": "https://localhost:8080/",
          "height": 472
        },
        "id": "tfmsvX66fMGW",
        "outputId": "5936cc3d-a59d-4106-9fa7-f851af6919d8"
      },
      "execution_count": 33,
      "outputs": [
        {
          "output_type": "display_data",
          "data": {
            "text/plain": [
              "<Figure size 1000x700 with 1 Axes>"
            ],
            "image/png": "[encoded data removed]"
          },
          "metadata": {}
        }
      ]
    },
    {
      "cell_type": "markdown",
      "source": [
        "# Create loss function and optimizer"
      ],
      "metadata": {
        "id": "P5jUAL6pfszi"
      }
    },
    {
      "cell_type": "code",
      "source": [
        "loss_function = nn.L1Loss()\n",
        "\n",
        "optimizer = torch.optim.SGD(params=model.parameters(),\n",
        "                            lr=0.01)"
      ],
      "metadata": {
        "id": "sg19PoiSgxb0"
      },
      "execution_count": 35,
      "outputs": []
    },
    {
      "cell_type": "markdown",
      "source": [
        "# Create training loop and testing loop"
      ],
      "metadata": {
        "id": "P8IJg_Nsg_Pz"
      }
    },
    {
      "cell_type": "code",
      "source": [
        "torch.manual_seed(7)\n",
        "\n",
        "epochs = 300\n",
        "\n",
        "train_loss_values = []\n",
        "test_loss_values = []\n",
        "epoch_count = []\n",
        "\n",
        "for epoch in range(epochs):\n",
        "\n",
        "  # Training\n",
        "  model.train()\n",
        "\n",
        "  y_pred = model(X_train)\n",
        "\n",
        "  loss = loss_function(y_pred, y_train)\n",
        "\n",
        "  optimizer.zero_grad()\n",
        "\n",
        "  loss.backward()\n",
        "\n",
        "  optimizer.step()\n",
        "\n",
        "  #Testing\n",
        "  model.eval()\n",
        "\n",
        "  with torch.inference_mode():\n",
        "    test_pred = model(X_test)\n",
        "\n",
        "    test_loss = loss_function(test_pred, y_test.type(torch.float))\n",
        "\n",
        "    if epoch % 20 == 0:\n",
        "      epoch_count.append(epoch)\n",
        "      train_loss_values.append(loss.detach().numpy())\n",
        "      test_loss_values.append(test_loss.detach().numpy())\n",
        "      print(f\"Epoch: {epoch} | MAE Train Loss: {loss} | MAE Test Loss: {test_loss}\")"
      ],
      "metadata": {
        "colab": {
          "base_uri": "https://localhost:8080/"
        },
        "id": "CH4LXdFChEQV",
        "outputId": "c5a9e4b8-c994-4349-bb08-9f8a3ffb2866"
      },
      "execution_count": 39,
      "outputs": [
        {
          "output_type": "stream",
          "name": "stdout",
          "text": [
            "Epoch: 0 | MAE Train Loss: 0.11078634113073349 | MAE Test Loss: 0.2612193524837494\n",
            "Epoch: 20 | MAE Train Loss: 0.10393514484167099 | MAE Test Loss: 0.24489176273345947\n",
            "Epoch: 40 | MAE Train Loss: 0.09708297252655029 | MAE Test Loss: 0.22890815138816833\n",
            "Epoch: 60 | MAE Train Loss: 0.09023177623748779 | MAE Test Loss: 0.21258051693439484\n",
            "Epoch: 80 | MAE Train Loss: 0.0833805724978447 | MAE Test Loss: 0.19625288248062134\n",
            "Epoch: 100 | MAE Train Loss: 0.07652847468852997 | MAE Test Loss: 0.18026955425739288\n",
            "Epoch: 120 | MAE Train Loss: 0.06967736780643463 | MAE Test Loss: 0.1639423370361328\n",
            "Epoch: 140 | MAE Train Loss: 0.0628262609243393 | MAE Test Loss: 0.14761514961719513\n",
            "Epoch: 160 | MAE Train Loss: 0.05597417801618576 | MAE Test Loss: 0.13163192570209503\n",
            "Epoch: 180 | MAE Train Loss: 0.04912307485938072 | MAE Test Loss: 0.11530473083257675\n",
            "Epoch: 200 | MAE Train Loss: 0.042271971702575684 | MAE Test Loss: 0.09897753596305847\n",
            "Epoch: 220 | MAE Train Loss: 0.03541988879442215 | MAE Test Loss: 0.08299435675144196\n",
            "Epoch: 240 | MAE Train Loss: 0.028568793088197708 | MAE Test Loss: 0.06666719168424606\n",
            "Epoch: 260 | MAE Train Loss: 0.021717678755521774 | MAE Test Loss: 0.05033993721008301\n",
            "Epoch: 280 | MAE Train Loss: 0.01486559771001339 | MAE Test Loss: 0.03435676172375679\n"
          ]
        }
      ]
    },
    {
      "cell_type": "markdown",
      "source": [
        "# Plot the loss curves"
      ],
      "metadata": {
        "id": "t57-yMX9jRkl"
      }
    },
    {
      "cell_type": "code",
      "source": [
        "plt.plot(epoch_count, train_loss_values, label=\"Train loss\")\n",
        "plt.plot(epoch_count, test_loss_values, label=\"Test loss\")\n",
        "plt.title(\"Training and test loss curves\")\n",
        "plt.ylabel(\"Loss\")\n",
        "plt.xlabel(\"Epochs\")\n",
        "plt.legend()"
      ],
      "metadata": {
        "colab": {
          "base_uri": "https://localhost:8080/",
          "height": 489
        },
        "id": "BUHrl-xbjhWv",
        "outputId": "41937860-8bfc-42f8-c757-ae6fed7d48f0"
      },
      "execution_count": 42,
      "outputs": [
        {
          "output_type": "execute_result",
          "data": {
            "text/plain": [
              "<matplotlib.legend.Legend at 0x7a49a2c6a860>"
            ]
          },
          "metadata": {},
          "execution_count": 42
        },
        {
          "output_type": "display_data",
          "data": {
            "text/plain": [
              "<Figure size 640x480 with 1 Axes>"
            ],
            "image/png": "[encoded data removed]"
          },
          "metadata": {}
        }
      ]
    },
    {
      "cell_type": "markdown",
      "source": [
        "# Find the model's learned parameters"
      ],
      "metadata": {
        "id": "0C90Xg9KkkRJ"
      }
    },
    {
      "cell_type": "code",
      "source": [
        "print(model.state_dict())\n",
        "\n",
        "print(f\"Weights: {weight} | Bias; {bias}\")"
      ],
      "metadata": {
        "colab": {
          "base_uri": "https://localhost:8080/"
        },
        "id": "ip4tVD6ik1hf",
        "outputId": "9a989d58-76b3-404f-88f4-ae2ad4ff3821"
      },
      "execution_count": 43,
      "outputs": [
        {
          "output_type": "stream",
          "name": "stdout",
          "text": [
            "OrderedDict([('weights', tensor([0.8601])), ('bias', tensor([0.3169]))])\n",
            "Weights: 0.9 | Bias; 0.3\n"
          ]
        }
      ]
    },
    {
      "cell_type": "markdown",
      "source": [
        "# Making predictions"
      ],
      "metadata": {
        "id": "mXnpwfKAk_Sx"
      }
    },
    {
      "cell_type": "code",
      "source": [
        "model.eval()\n",
        "\n",
        "with torch.inference_mode():\n",
        "  y_preds = model(X_test)\n",
        "\n",
        "y_preds"
      ],
      "metadata": {
        "colab": {
          "base_uri": "https://localhost:8080/"
        },
        "id": "Bw2q1FielIlm",
        "outputId": "5d4a08f9-673d-4cae-9540-9d6e2102f6f5"
      },
      "execution_count": 44,
      "outputs": [
        {
          "output_type": "execute_result",
          "data": {
            "text/plain": [
              "tensor([[1.0050],\n",
              "        [1.0136],\n",
              "        [1.0222],\n",
              "        [1.0308],\n",
              "        [1.0394],\n",
              "        [1.0480],\n",
              "        [1.0566],\n",
              "        [1.0652],\n",
              "        [1.0738],\n",
              "        [1.0824],\n",
              "        [1.0910],\n",
              "        [1.0996],\n",
              "        [1.1082],\n",
              "        [1.1168],\n",
              "        [1.1254],\n",
              "        [1.1340],\n",
              "        [1.1426],\n",
              "        [1.1512],\n",
              "        [1.1598],\n",
              "        [1.1684]])"
            ]
          },
          "metadata": {},
          "execution_count": 44
        }
      ]
    },
    {
      "cell_type": "code",
      "source": [
        "plot_predictions(predictions=y_preds)"
      ],
      "metadata": {
        "colab": {
          "base_uri": "https://localhost:8080/",
          "height": 472
        },
        "id": "iahHBoaTlRwm",
        "outputId": "34ec30d0-ca31-48e5-c599-148ac8dc6b3b"
      },
      "execution_count": 45,
      "outputs": [
        {
          "output_type": "display_data",
          "data": {
            "text/plain": [
              "<Figure size 1000x700 with 1 Axes>"
            ],
            "image/png": "[encoded data removed]"
          },
          "metadata": {}
        }
      ]
    },
    {
      "cell_type": "markdown",
      "source": [
        "# Save the model"
      ],
      "metadata": {
        "id": "AczIOuZ7lWz0"
      }
    },
    {
      "cell_type": "code",
      "source": [
        "from pathlib import Path\n",
        "\n",
        "MODEL_PATH = Path(\"models\")\n",
        "MODEL_PATH.mkdir(parents=True, exist_ok=True)\n",
        "\n",
        "MODEL_NAME = \"01_pytorch_workflow_hw_model.pth\"\n",
        "MODEL_SAVE_PATH = MODEL_PATH / MODEL_NAME\n",
        "\n",
        "print(f\"Saving model to: {MODEL_SAVE_PATH}\")\n",
        "torch.save(obj=model.state_dict(),\n",
        "           f=MODEL_SAVE_PATH)"
      ],
      "metadata": {
        "colab": {
          "base_uri": "https://localhost:8080/"
        },
        "id": "h5XCuhR5l0gd",
        "outputId": "fd85e9ed-9c17-4f5f-9280-8c63f9a6a966"
      },
      "execution_count": 47,
      "outputs": [
        {
          "output_type": "stream",
          "name": "stdout",
          "text": [
            "Saving model to: models/01_pytorch_workflow_hw_model.pth\n"
          ]
        }
      ]
    },
    {
      "cell_type": "markdown",
      "source": [
        "# Check the saved file path"
      ],
      "metadata": {
        "id": "JMtJPh4pmYm9"
      }
    },
    {
      "cell_type": "code",
      "source": [
        "!ls -l models/01_pytorch_workflow_hw_model.pth"
      ],
      "metadata": {
        "colab": {
          "base_uri": "https://localhost:8080/"
        },
        "id": "tOmxs5_cmeiN",
        "outputId": "78b180f4-d570-41eb-b291-ff285ce1b5d9"
      },
      "execution_count": 48,
      "outputs": [
        {
          "output_type": "stream",
          "name": "stdout",
          "text": [
            "-rw-r--r-- 1 root root 1211 Sep 23 10:33 models/01_pytorch_workflow_hw_model.pth\n"
          ]
        }
      ]
    },
    {
      "cell_type": "code",
      "source": [],
      "metadata": {
        "id": "bXNm02q1miJl"
      },
      "execution_count": null,
      "outputs": []
    }
  ]
}