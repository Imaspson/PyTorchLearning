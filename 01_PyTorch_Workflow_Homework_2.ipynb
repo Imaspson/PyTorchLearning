{
  "nbformat": 4,
  "nbformat_minor": 0,
  "metadata": {
    "colab": {
      "provenance": [],
      "gpuType": "T4",
      "authorship_tag": "ABX9TyO5qwXC0YryQyyXDu6H1ck2",
      "include_colab_link": true
    },
    "kernelspec": {
      "name": "python3",
      "display_name": "Python 3"
    },
    "language_info": {
      "name": "python"
    },
    "accelerator": "GPU"
  },
  "cells": [
    {
      "cell_type": "markdown",
      "metadata": {
        "id": "view-in-github",
        "colab_type": "text"
      },
      "source": [
        "<a href=\"https://colab.research.google.com/github/Imaspson/PyTorchLearning/blob/main/01_PyTorch_Workflow_Homework_2.ipynb\" target=\"_parent\"><img src=\"https://colab.research.google.com/assets/colab-badge.svg\" alt=\"Open In Colab\"/></a>"
      ]
    },
    {
      "cell_type": "code",
      "execution_count": 1,
      "metadata": {
        "colab": {
          "base_uri": "https://localhost:8080/",
          "height": 36
        },
        "id": "Niw2iuNI46kR",
        "outputId": "5bd1c830-64ba-40e6-b75f-39cfa9532790"
      },
      "outputs": [
        {
          "output_type": "execute_result",
          "data": {
            "text/plain": [
              "'2.0.1+cu118'"
            ],
            "application/vnd.google.colaboratory.intrinsic+json": {
              "type": "string"
            }
          },
          "metadata": {},
          "execution_count": 1
        }
      ],
      "source": [
        "import torch\n",
        "from torch import nn\n",
        "import matplotlib.pyplot as plt\n",
        "\n",
        "torch.__version__"
      ]
    },
    {
      "cell_type": "markdown",
      "source": [
        "# Make agnostic code"
      ],
      "metadata": {
        "id": "FHohxbctEug1"
      }
    },
    {
      "cell_type": "code",
      "source": [
        "device = \"cuda\" if torch.cuda.is_available() else \"cpu\"\n",
        "print(f\"Using device: {device}\")"
      ],
      "metadata": {
        "colab": {
          "base_uri": "https://localhost:8080/"
        },
        "id": "mrbNnXTAEyvP",
        "outputId": "2e172537-ed38-4c48-822e-40e85800ddbd"
      },
      "execution_count": 2,
      "outputs": [
        {
          "output_type": "stream",
          "name": "stdout",
          "text": [
            "Using device: cuda\n"
          ]
        }
      ]
    },
    {
      "cell_type": "markdown",
      "source": [
        "# Create data"
      ],
      "metadata": {
        "id": "jH-Yw3QYE6MZ"
      }
    },
    {
      "cell_type": "code",
      "source": [
        "weight = 0.7\n",
        "bias = 0.4\n",
        "\n",
        "start = 0\n",
        "end = 1\n",
        "step = 0.01\n",
        "\n",
        "X = torch.arange(start, end, step).unsqueeze(dim=1)\n",
        "y = weight * X + bias\n",
        "\n",
        "X[:5], y[:5]"
      ],
      "metadata": {
        "colab": {
          "base_uri": "https://localhost:8080/"
        },
        "id": "l3olEchsFAvx",
        "outputId": "3f6a52f9-9fad-4562-c6f1-99b827562d30"
      },
      "execution_count": 3,
      "outputs": [
        {
          "output_type": "execute_result",
          "data": {
            "text/plain": [
              "(tensor([[0.0000],\n",
              "         [0.0100],\n",
              "         [0.0200],\n",
              "         [0.0300],\n",
              "         [0.0400]]),\n",
              " tensor([[0.4000],\n",
              "         [0.4070],\n",
              "         [0.4140],\n",
              "         [0.4210],\n",
              "         [0.4280]]))"
            ]
          },
          "metadata": {},
          "execution_count": 3
        }
      ]
    },
    {
      "cell_type": "markdown",
      "source": [
        "# Splitting data"
      ],
      "metadata": {
        "id": "kAJOq6hcFU70"
      }
    },
    {
      "cell_type": "code",
      "source": [
        "train_split = int(0.8 * len(X))\n",
        "X_train, y_train = X[:train_split], y[:train_split]\n",
        "X_test, y_test = X[train_split:], y[train_split:]\n",
        "\n",
        "len(X_train), len(y_train), len(X_test), len(y_test)"
      ],
      "metadata": {
        "colab": {
          "base_uri": "https://localhost:8080/"
        },
        "id": "pB8_m4RYFZMX",
        "outputId": "f4a16a3c-3cca-44e6-edcd-95ba1ef0d76d"
      },
      "execution_count": 4,
      "outputs": [
        {
          "output_type": "execute_result",
          "data": {
            "text/plain": [
              "(80, 80, 20, 20)"
            ]
          },
          "metadata": {},
          "execution_count": 4
        }
      ]
    },
    {
      "cell_type": "markdown",
      "source": [
        "# Create plot function"
      ],
      "metadata": {
        "id": "Zn-muWdvFrcg"
      }
    },
    {
      "cell_type": "code",
      "source": [
        "def plot_predictions(train_data=X_train,\n",
        "                     train_labels=y_train,\n",
        "                     test_data=X_test,\n",
        "                     test_labels=y_test,\n",
        "                     predictions=None):\n",
        "  \"\"\"\n",
        "  Plots training data, test data and compares predictions.\n",
        "  \"\"\"\n",
        "\n",
        "  plt.figure(figsize=(10, 7))\n",
        "\n",
        "  # Plot training data in blue\n",
        "  plt.scatter(train_data, train_labels, c=\"b\", s=4, label=\"Training data\")\n",
        "\n",
        "  # Plot test data in green\n",
        "  plt.scatter(test_data, test_labels, c=\"g\", s=4, label=\"Testing data\")\n",
        "\n",
        "  # Are there predictions?\n",
        "  if predictions is not None:\n",
        "    # Plot the predictions if they exist\n",
        "    plt.scatter(test_data, predictions, c=\"r\", s=4, label=\"Predictions\")\n",
        "\n",
        "  # Show the legend\n",
        "  plt.legend(prop={\"size\": 14})"
      ],
      "metadata": {
        "id": "QzfZ1-jAFxKC"
      },
      "execution_count": 5,
      "outputs": []
    },
    {
      "cell_type": "code",
      "source": [
        "plot_predictions(X_train, y_train, X_test, y_test)"
      ],
      "metadata": {
        "colab": {
          "base_uri": "https://localhost:8080/",
          "height": 472
        },
        "id": "ZDSmWBlGF3mE",
        "outputId": "cc827cd1-5709-4e77-88b7-45fab815db4c"
      },
      "execution_count": 6,
      "outputs": [
        {
          "output_type": "display_data",
          "data": {
            "text/plain": [
              "<Figure size 1000x700 with 1 Axes>"
            ],
            "image/png": "[encoded data removed]"
          },
          "metadata": {}
        }
      ]
    },
    {
      "cell_type": "markdown",
      "source": [
        "# Making the model"
      ],
      "metadata": {
        "id": "fXRq2njmF8Rf"
      }
    },
    {
      "cell_type": "code",
      "source": [
        "class LinearRegressionModel(nn.Module):\n",
        "  def __init__(self):\n",
        "    super().__init__()\n",
        "    self.linear_layer = nn.Linear(in_features=1,\n",
        "                                  out_features=1)\n",
        "\n",
        "  def forward(self, x: torch.Tensor) -> torch.Tensor:\n",
        "    return self.linear_layer(x)\n",
        "\n",
        "torch.manual_seed(42)\n",
        "model = LinearRegressionModel()\n",
        "model, model.state_dict()"
      ],
      "metadata": {
        "colab": {
          "base_uri": "https://localhost:8080/"
        },
        "id": "F5i1g4xVGDJ7",
        "outputId": "5986a8d5-1883-463f-8a1f-a99d285398b8"
      },
      "execution_count": 8,
      "outputs": [
        {
          "output_type": "execute_result",
          "data": {
            "text/plain": [
              "(LinearRegressionModel(\n",
              "   (linear_layer): Linear(in_features=1, out_features=1, bias=True)\n",
              " ),\n",
              " OrderedDict([('linear_layer.weight', tensor([[0.7645]])),\n",
              "              ('linear_layer.bias', tensor([0.8300]))]))"
            ]
          },
          "metadata": {},
          "execution_count": 8
        }
      ]
    },
    {
      "cell_type": "markdown",
      "source": [
        "# Check the device"
      ],
      "metadata": {
        "id": "4dw4a7REGM_W"
      }
    },
    {
      "cell_type": "code",
      "source": [
        "next(model.parameters()).device"
      ],
      "metadata": {
        "colab": {
          "base_uri": "https://localhost:8080/"
        },
        "id": "TCfQQ6IcGtUb",
        "outputId": "d4c6adad-6d45-4130-b018-cd635d205052"
      },
      "execution_count": 10,
      "outputs": [
        {
          "output_type": "execute_result",
          "data": {
            "text/plain": [
              "device(type='cpu')"
            ]
          },
          "metadata": {},
          "execution_count": 10
        }
      ]
    },
    {
      "cell_type": "markdown",
      "source": [
        "# Set our model to the GPU"
      ],
      "metadata": {
        "id": "l8_xWRQiHB7I"
      }
    },
    {
      "cell_type": "code",
      "source": [
        "model.to(device)\n",
        "next(model.parameters()).device"
      ],
      "metadata": {
        "colab": {
          "base_uri": "https://localhost:8080/"
        },
        "id": "gxPbBSNyHGl3",
        "outputId": "ac44ed87-000a-423c-b27c-6d9d9a8dae20"
      },
      "execution_count": 11,
      "outputs": [
        {
          "output_type": "execute_result",
          "data": {
            "text/plain": [
              "device(type='cuda', index=0)"
            ]
          },
          "metadata": {},
          "execution_count": 11
        }
      ]
    },
    {
      "cell_type": "markdown",
      "source": [
        "# Training"
      ],
      "metadata": {
        "id": "5fL0A9tDHLq5"
      }
    },
    {
      "cell_type": "code",
      "source": [
        "loss_function = nn.L1Loss()\n",
        "\n",
        "optimizer = torch.optim.SGD(params=model.parameters(),\n",
        "                            lr=0.01)"
      ],
      "metadata": {
        "id": "W5hRN1DmHh5E"
      },
      "execution_count": 12,
      "outputs": []
    },
    {
      "cell_type": "code",
      "source": [
        "torch.manual_seed(42)\n",
        "\n",
        "epochs = 1000\n",
        "\n",
        "X_train = X_train.to(device)\n",
        "X_test = X_test.to(device)\n",
        "y_train = y_train.to(device)\n",
        "y_test = y_test.to(device)\n",
        "\n",
        "for epoch in range(epochs):\n",
        "\n",
        "  #Training\n",
        "  model.train()\n",
        "\n",
        "  y_pred = model(X_train)\n",
        "\n",
        "  loss = loss_function(y_pred, y_train)\n",
        "\n",
        "  optimizer.zero_grad()\n",
        "\n",
        "  loss.backward()\n",
        "\n",
        "  optimizer.step()\n",
        "\n",
        "  #Testing\n",
        "  model.eval()\n",
        "  with torch.inference_mode():\n",
        "    test_pred = model(X_test)\n",
        "\n",
        "    test_loss = loss_function(test_pred, y_test)\n",
        "\n",
        "  if epoch % 20 == 0:\n",
        "    print(f\"Epoch: {epoch} | Train loss: {loss} | Test loss: {test_loss}\")"
      ],
      "metadata": {
        "colab": {
          "base_uri": "https://localhost:8080/"
        },
        "id": "lKi5PpPjHryI",
        "outputId": "aa2e6ea7-c93a-4810-ed74-24b2fba2bfa4"
      },
      "execution_count": 13,
      "outputs": [
        {
          "output_type": "stream",
          "name": "stdout",
          "text": [
            "Epoch: 0 | Train loss: 0.45550060272216797 | Test loss: 0.4742346704006195\n",
            "Epoch: 20 | Train loss: 0.22429580986499786 | Test loss: 0.20352986454963684\n",
            "Epoch: 40 | Train loss: 0.018104223534464836 | Test loss: 0.03548114374279976\n",
            "Epoch: 60 | Train loss: 0.010698015801608562 | Test loss: 0.024371718987822533\n",
            "Epoch: 80 | Train loss: 0.0038483645766973495 | Test loss: 0.008390671573579311\n",
            "Epoch: 100 | Train loss: 0.006693247240036726 | Test loss: 0.009139331988990307\n",
            "Epoch: 120 | Train loss: 0.006693247240036726 | Test loss: 0.009139331988990307\n",
            "Epoch: 140 | Train loss: 0.006693247240036726 | Test loss: 0.009139331988990307\n",
            "Epoch: 160 | Train loss: 0.006693247240036726 | Test loss: 0.009139331988990307\n",
            "Epoch: 180 | Train loss: 0.006693247240036726 | Test loss: 0.009139331988990307\n",
            "Epoch: 200 | Train loss: 0.006693247240036726 | Test loss: 0.009139331988990307\n",
            "Epoch: 220 | Train loss: 0.006693247240036726 | Test loss: 0.009139331988990307\n",
            "Epoch: 240 | Train loss: 0.006693247240036726 | Test loss: 0.009139331988990307\n",
            "Epoch: 260 | Train loss: 0.006693247240036726 | Test loss: 0.009139331988990307\n",
            "Epoch: 280 | Train loss: 0.006693247240036726 | Test loss: 0.009139331988990307\n",
            "Epoch: 300 | Train loss: 0.006693247240036726 | Test loss: 0.009139331988990307\n",
            "Epoch: 320 | Train loss: 0.006693247240036726 | Test loss: 0.009139331988990307\n",
            "Epoch: 340 | Train loss: 0.006693247240036726 | Test loss: 0.009139331988990307\n",
            "Epoch: 360 | Train loss: 0.006693247240036726 | Test loss: 0.009139331988990307\n",
            "Epoch: 380 | Train loss: 0.006693247240036726 | Test loss: 0.009139331988990307\n",
            "Epoch: 400 | Train loss: 0.006693247240036726 | Test loss: 0.009139331988990307\n",
            "Epoch: 420 | Train loss: 0.006693247240036726 | Test loss: 0.009139331988990307\n",
            "Epoch: 440 | Train loss: 0.006693247240036726 | Test loss: 0.009139331988990307\n",
            "Epoch: 460 | Train loss: 0.006693247240036726 | Test loss: 0.009139331988990307\n",
            "Epoch: 480 | Train loss: 0.006693247240036726 | Test loss: 0.009139331988990307\n",
            "Epoch: 500 | Train loss: 0.006693247240036726 | Test loss: 0.009139331988990307\n",
            "Epoch: 520 | Train loss: 0.006693247240036726 | Test loss: 0.009139331988990307\n",
            "Epoch: 540 | Train loss: 0.006693247240036726 | Test loss: 0.009139331988990307\n",
            "Epoch: 560 | Train loss: 0.006693247240036726 | Test loss: 0.009139331988990307\n",
            "Epoch: 580 | Train loss: 0.006693247240036726 | Test loss: 0.009139331988990307\n",
            "Epoch: 600 | Train loss: 0.006693247240036726 | Test loss: 0.009139331988990307\n",
            "Epoch: 620 | Train loss: 0.006693247240036726 | Test loss: 0.009139331988990307\n",
            "Epoch: 640 | Train loss: 0.006693247240036726 | Test loss: 0.009139331988990307\n",
            "Epoch: 660 | Train loss: 0.006693247240036726 | Test loss: 0.009139331988990307\n",
            "Epoch: 680 | Train loss: 0.006693247240036726 | Test loss: 0.009139331988990307\n",
            "Epoch: 700 | Train loss: 0.006693247240036726 | Test loss: 0.009139331988990307\n",
            "Epoch: 720 | Train loss: 0.006693247240036726 | Test loss: 0.009139331988990307\n",
            "Epoch: 740 | Train loss: 0.006693247240036726 | Test loss: 0.009139331988990307\n",
            "Epoch: 760 | Train loss: 0.006693247240036726 | Test loss: 0.009139331988990307\n",
            "Epoch: 780 | Train loss: 0.006693247240036726 | Test loss: 0.009139331988990307\n",
            "Epoch: 800 | Train loss: 0.006693247240036726 | Test loss: 0.009139331988990307\n",
            "Epoch: 820 | Train loss: 0.006693247240036726 | Test loss: 0.009139331988990307\n",
            "Epoch: 840 | Train loss: 0.006693247240036726 | Test loss: 0.009139331988990307\n",
            "Epoch: 860 | Train loss: 0.006693247240036726 | Test loss: 0.009139331988990307\n",
            "Epoch: 880 | Train loss: 0.006693247240036726 | Test loss: 0.009139331988990307\n",
            "Epoch: 900 | Train loss: 0.006693247240036726 | Test loss: 0.009139331988990307\n",
            "Epoch: 920 | Train loss: 0.006693247240036726 | Test loss: 0.009139331988990307\n",
            "Epoch: 940 | Train loss: 0.006693247240036726 | Test loss: 0.009139331988990307\n",
            "Epoch: 960 | Train loss: 0.006693247240036726 | Test loss: 0.009139331988990307\n",
            "Epoch: 980 | Train loss: 0.006693247240036726 | Test loss: 0.009139331988990307\n"
          ]
        }
      ]
    },
    {
      "cell_type": "code",
      "source": [
        "from pprint import pprint\n",
        "\n",
        "pprint(\"The model learned the following values for weight and bias:\")\n",
        "pprint(model.state_dict())\n",
        "print(\"/nAnd the original values for weight and bias are:\")\n",
        "print(f\"weight: {weight} | bias: {bias}\")"
      ],
      "metadata": {
        "colab": {
          "base_uri": "https://localhost:8080/"
        },
        "id": "3Z34e05lIwWJ",
        "outputId": "50362070-4d78-43bc-b875-a8be4c50029f"
      },
      "execution_count": 14,
      "outputs": [
        {
          "output_type": "stream",
          "name": "stdout",
          "text": [
            "'The model learned the following values for weight and bias:'\n",
            "OrderedDict([('linear_layer.weight', tensor([[0.6954]], device='cuda:0')),\n",
            "             ('linear_layer.bias', tensor([0.4085], device='cuda:0'))])\n",
            "/nAnd the original values for weight and bias are:\n",
            "weight: 0.7 | bias: 0.4\n"
          ]
        }
      ]
    },
    {
      "cell_type": "markdown",
      "source": [
        "# Making predictions"
      ],
      "metadata": {
        "id": "gA2KGebrKKzu"
      }
    },
    {
      "cell_type": "code",
      "source": [
        "model.eval()\n",
        "\n",
        "with torch.inference_mode():\n",
        "  y_preds = model(X_test)\n",
        "y_preds"
      ],
      "metadata": {
        "colab": {
          "base_uri": "https://localhost:8080/"
        },
        "id": "A06ppEkfKU0U",
        "outputId": "708d23cd-a692-4a3c-fc97-742f08858fed"
      },
      "execution_count": 15,
      "outputs": [
        {
          "output_type": "execute_result",
          "data": {
            "text/plain": [
              "tensor([[0.9648],\n",
              "        [0.9718],\n",
              "        [0.9787],\n",
              "        [0.9857],\n",
              "        [0.9926],\n",
              "        [0.9996],\n",
              "        [1.0066],\n",
              "        [1.0135],\n",
              "        [1.0205],\n",
              "        [1.0274],\n",
              "        [1.0344],\n",
              "        [1.0413],\n",
              "        [1.0483],\n",
              "        [1.0552],\n",
              "        [1.0622],\n",
              "        [1.0691],\n",
              "        [1.0761],\n",
              "        [1.0831],\n",
              "        [1.0900],\n",
              "        [1.0970]], device='cuda:0')"
            ]
          },
          "metadata": {},
          "execution_count": 15
        }
      ]
    },
    {
      "cell_type": "code",
      "source": [
        "plot_predictions(predictions=y_preds.cpu())"
      ],
      "metadata": {
        "colab": {
          "base_uri": "https://localhost:8080/",
          "height": 472
        },
        "id": "z3UbcgetKaAI",
        "outputId": "5f6b6d03-aa6a-463c-b338-f26c899a762c"
      },
      "execution_count": 16,
      "outputs": [
        {
          "output_type": "display_data",
          "data": {
            "text/plain": [
              "<Figure size 1000x700 with 1 Axes>"
            ],
            "image/png": "[encoded data removed]"
          },
          "metadata": {}
        }
      ]
    },
    {
      "cell_type": "markdown",
      "source": [
        "# Saving and loading model"
      ],
      "metadata": {
        "id": "HXeAfN46KlXw"
      }
    },
    {
      "cell_type": "code",
      "source": [
        "from pathlib import Path\n",
        "\n",
        "MODEL_PATH = Path(\"models\")\n",
        "MODEL_PATH.mkdir(parents=True, exist_ok=True)\n",
        "\n",
        "MODEL_NAME = \"01_pytorch_workflow_hw_2.pth\"\n",
        "MODEL_SAVE_PATH = MODEL_PATH / MODEL_NAME\n",
        "\n",
        "print(f\"Saving model to: {MODEL_SAVE_PATH}\")\n",
        "torch.save(obj=model.state_dict(),\n",
        "           f=MODEL_SAVE_PATH)"
      ],
      "metadata": {
        "colab": {
          "base_uri": "https://localhost:8080/"
        },
        "id": "K4bF8JFDKrQ-",
        "outputId": "a30b4fde-ac09-4310-8535-b406719522b7"
      },
      "execution_count": 17,
      "outputs": [
        {
          "output_type": "stream",
          "name": "stdout",
          "text": [
            "Saving model to: models/01_pytorch_workflow_hw_2.pth\n"
          ]
        }
      ]
    },
    {
      "cell_type": "code",
      "source": [
        "loaded_model_1 = LinearRegressionModel()\n",
        "\n",
        "loaded_model_1.load_state_dict(torch.load(MODEL_SAVE_PATH))\n",
        "\n",
        "loaded_model_1.to(device)\n",
        "\n",
        "print(f\"Loaded model: {loaded_model_1}\")\n",
        "print(f\"Model on device: {next(loaded_model_1.parameters()).device}\")"
      ],
      "metadata": {
        "colab": {
          "base_uri": "https://localhost:8080/"
        },
        "id": "CfX1FDhBLIXG",
        "outputId": "4e6591bb-6f43-4539-af45-c593eafca7af"
      },
      "execution_count": 20,
      "outputs": [
        {
          "output_type": "stream",
          "name": "stdout",
          "text": [
            "Loaded model: LinearRegressionModel(\n",
            "  (linear_layer): Linear(in_features=1, out_features=1, bias=True)\n",
            ")\n",
            "Model on device: cuda:0\n"
          ]
        }
      ]
    },
    {
      "cell_type": "code",
      "source": [
        "loaded_model_1.eval()\n",
        "\n",
        "with torch.inference_mode():\n",
        "  loaded_model_1_preds = loaded_model_1(X_test)\n",
        "y_preds == loaded_model_1_preds"
      ],
      "metadata": {
        "colab": {
          "base_uri": "https://localhost:8080/"
        },
        "id": "Eyu5jvFpL2BQ",
        "outputId": "6d060394-fce7-49a4-e74d-41f73d6a2029"
      },
      "execution_count": 21,
      "outputs": [
        {
          "output_type": "execute_result",
          "data": {
            "text/plain": [
              "tensor([[True],\n",
              "        [True],\n",
              "        [True],\n",
              "        [True],\n",
              "        [True],\n",
              "        [True],\n",
              "        [True],\n",
              "        [True],\n",
              "        [True],\n",
              "        [True],\n",
              "        [True],\n",
              "        [True],\n",
              "        [True],\n",
              "        [True],\n",
              "        [True],\n",
              "        [True],\n",
              "        [True],\n",
              "        [True],\n",
              "        [True],\n",
              "        [True]], device='cuda:0')"
            ]
          },
          "metadata": {},
          "execution_count": 21
        }
      ]
    },
    {
      "cell_type": "code",
      "source": [],
      "metadata": {
        "id": "v5fMevlGMKTf"
      },
      "execution_count": null,
      "outputs": []
    }
  ]
}