{
  "nbformat": 4,
  "nbformat_minor": 0,
  "metadata": {
    "colab": {
      "provenance": [],
      "authorship_tag": "ABX9TyPWjwBRLR/lFV8DD2HNipFc",
      "include_colab_link": true
    },
    "kernelspec": {
      "name": "python3",
      "display_name": "Python 3"
    },
    "language_info": {
      "name": "python"
    }
  },
  "cells": [
    {
      "cell_type": "markdown",
      "metadata": {
        "id": "view-in-github",
        "colab_type": "text"
      },
      "source": [
        "<a href=\"https://colab.research.google.com/github/Imaspson/PyTorchLearning/blob/main/01_PyTorch.ipynb\" target=\"_parent\"><img src=\"https://colab.research.google.com/assets/colab-badge.svg\" alt=\"Open In Colab\"/></a>"
      ]
    },
    {
      "cell_type": "code",
      "execution_count": 1,
      "metadata": {
        "id": "nbDM-tc1k7-t"
      },
      "outputs": [],
      "source": [
        "import torch"
      ]
    },
    {
      "cell_type": "code",
      "source": [
        "torch.__version__"
      ],
      "metadata": {
        "colab": {
          "base_uri": "https://localhost:8080/",
          "height": 35
        },
        "id": "xmoLyB61l81s",
        "outputId": "23db3d82-646b-4b9c-a52a-5dad8dacae64"
      },
      "execution_count": 2,
      "outputs": [
        {
          "output_type": "execute_result",
          "data": {
            "text/plain": [
              "'2.1.0+cu118'"
            ],
            "application/vnd.google.colaboratory.intrinsic+json": {
              "type": "string"
            }
          },
          "metadata": {},
          "execution_count": 2
        }
      ]
    },
    {
      "cell_type": "code",
      "source": [
        "# Scalar\n",
        "scalar = torch.tensor(7)\n",
        "scalar"
      ],
      "metadata": {
        "colab": {
          "base_uri": "https://localhost:8080/"
        },
        "id": "-ClEOGnFl_UL",
        "outputId": "ab2ff3f9-9dd4-4110-fc0b-882466607448"
      },
      "execution_count": 3,
      "outputs": [
        {
          "output_type": "execute_result",
          "data": {
            "text/plain": [
              "tensor(7)"
            ]
          },
          "metadata": {},
          "execution_count": 3
        }
      ]
    },
    {
      "cell_type": "code",
      "source": [
        "scalar.ndim"
      ],
      "metadata": {
        "colab": {
          "base_uri": "https://localhost:8080/"
        },
        "id": "_qJ9uFepms51",
        "outputId": "4a26a4b7-604a-4a42-e8c0-b4052abeae0b"
      },
      "execution_count": 4,
      "outputs": [
        {
          "output_type": "execute_result",
          "data": {
            "text/plain": [
              "0"
            ]
          },
          "metadata": {},
          "execution_count": 4
        }
      ]
    },
    {
      "cell_type": "markdown",
      "source": [
        "# Convert scalar from `torch.Tensor` type to integer"
      ],
      "metadata": {
        "id": "eOYHmqU4mpJn"
      }
    },
    {
      "cell_type": "code",
      "source": [
        "scalar.item()"
      ],
      "metadata": {
        "colab": {
          "base_uri": "https://localhost:8080/"
        },
        "id": "TNr_OkZim4Qx",
        "outputId": "41bc1897-786d-4457-ce4e-472addc94f46"
      },
      "execution_count": 5,
      "outputs": [
        {
          "output_type": "execute_result",
          "data": {
            "text/plain": [
              "7"
            ]
          },
          "metadata": {},
          "execution_count": 5
        }
      ]
    },
    {
      "cell_type": "code",
      "source": [
        "# Vector\n",
        "vector = torch.tensor([7, 7])\n",
        "vector"
      ],
      "metadata": {
        "colab": {
          "base_uri": "https://localhost:8080/"
        },
        "id": "aHmo34qWm5vK",
        "outputId": "d02a3799-1233-4c72-e719-7c3c19401b0e"
      },
      "execution_count": 6,
      "outputs": [
        {
          "output_type": "execute_result",
          "data": {
            "text/plain": [
              "tensor([7, 7])"
            ]
          },
          "metadata": {},
          "execution_count": 6
        }
      ]
    },
    {
      "cell_type": "code",
      "source": [
        "vector.ndim"
      ],
      "metadata": {
        "colab": {
          "base_uri": "https://localhost:8080/"
        },
        "id": "YcL9akL0nEen",
        "outputId": "29be5947-1b44-4a89-c360-8aaa5dd8ab4b"
      },
      "execution_count": 7,
      "outputs": [
        {
          "output_type": "execute_result",
          "data": {
            "text/plain": [
              "1"
            ]
          },
          "metadata": {},
          "execution_count": 7
        }
      ]
    },
    {
      "cell_type": "code",
      "source": [
        "vector.shape"
      ],
      "metadata": {
        "colab": {
          "base_uri": "https://localhost:8080/"
        },
        "id": "1kqSCcI9nHfQ",
        "outputId": "bbfd7c17-f090-4e8c-a908-5af0f9bc732e"
      },
      "execution_count": 8,
      "outputs": [
        {
          "output_type": "execute_result",
          "data": {
            "text/plain": [
              "torch.Size([2])"
            ]
          },
          "metadata": {},
          "execution_count": 8
        }
      ]
    },
    {
      "cell_type": "code",
      "source": [
        "# Matrix\n",
        "MATRIX = torch.tensor([[7,8],\n",
        "                       [9, 10]])\n",
        "MATRIX"
      ],
      "metadata": {
        "colab": {
          "base_uri": "https://localhost:8080/"
        },
        "id": "JKQk1982nOpA",
        "outputId": "9feded76-bfe2-445b-dbea-c50c9078557d"
      },
      "execution_count": 10,
      "outputs": [
        {
          "output_type": "execute_result",
          "data": {
            "text/plain": [
              "tensor([[ 7,  8],\n",
              "        [ 9, 10]])"
            ]
          },
          "metadata": {},
          "execution_count": 10
        }
      ]
    },
    {
      "cell_type": "code",
      "source": [
        "MATRIX.ndim"
      ],
      "metadata": {
        "colab": {
          "base_uri": "https://localhost:8080/"
        },
        "id": "42D8L_nSnUp7",
        "outputId": "16b335be-9fb2-43c6-be33-eba1e2267406"
      },
      "execution_count": 11,
      "outputs": [
        {
          "output_type": "execute_result",
          "data": {
            "text/plain": [
              "2"
            ]
          },
          "metadata": {},
          "execution_count": 11
        }
      ]
    },
    {
      "cell_type": "code",
      "source": [
        "MATRIX.shape"
      ],
      "metadata": {
        "colab": {
          "base_uri": "https://localhost:8080/"
        },
        "id": "zwmOBHA1nduo",
        "outputId": "8a37c388-8ee2-4fd0-cfff-0a538883d46b"
      },
      "execution_count": 12,
      "outputs": [
        {
          "output_type": "execute_result",
          "data": {
            "text/plain": [
              "torch.Size([2, 2])"
            ]
          },
          "metadata": {},
          "execution_count": 12
        }
      ]
    },
    {
      "cell_type": "code",
      "source": [
        "# Tensor\n",
        "TENSOR = torch.tensor([[[1, 2, 3],\n",
        "                        [4, 5, 6],\n",
        "                        [7, 8, 9]]])\n",
        "TENSOR"
      ],
      "metadata": {
        "colab": {
          "base_uri": "https://localhost:8080/"
        },
        "id": "yEIYP60onjNk",
        "outputId": "48ff48cd-3925-42b8-e3cd-b06ce1a412d3"
      },
      "execution_count": 13,
      "outputs": [
        {
          "output_type": "execute_result",
          "data": {
            "text/plain": [
              "tensor([[[1, 2, 3],\n",
              "         [4, 5, 6],\n",
              "         [7, 8, 9]]])"
            ]
          },
          "metadata": {},
          "execution_count": 13
        }
      ]
    },
    {
      "cell_type": "code",
      "source": [
        "TENSOR.ndim"
      ],
      "metadata": {
        "colab": {
          "base_uri": "https://localhost:8080/"
        },
        "id": "rL7uknconu9L",
        "outputId": "bc3e89b0-197c-4d72-a0bc-304ce93adbbf"
      },
      "execution_count": 14,
      "outputs": [
        {
          "output_type": "execute_result",
          "data": {
            "text/plain": [
              "3"
            ]
          },
          "metadata": {},
          "execution_count": 14
        }
      ]
    },
    {
      "cell_type": "code",
      "source": [
        "TENSOR.shape"
      ],
      "metadata": {
        "colab": {
          "base_uri": "https://localhost:8080/"
        },
        "id": "zxeDcIqen4KR",
        "outputId": "9438b25c-7f97-486d-f5f5-2fa98818986a"
      },
      "execution_count": 15,
      "outputs": [
        {
          "output_type": "execute_result",
          "data": {
            "text/plain": [
              "torch.Size([1, 3, 3])"
            ]
          },
          "metadata": {},
          "execution_count": 15
        }
      ]
    },
    {
      "cell_type": "code",
      "source": [
        "random_tensor = torch.rand(size=(3, 4))\n",
        "random_tensor, random_tensor.dtype, random_tensor.shape"
      ],
      "metadata": {
        "colab": {
          "base_uri": "https://localhost:8080/"
        },
        "id": "LaRydz9On9Ak",
        "outputId": "4f23b569-18ea-4637-de8b-e070757b5473"
      },
      "execution_count": 18,
      "outputs": [
        {
          "output_type": "execute_result",
          "data": {
            "text/plain": [
              "(tensor([[0.6275, 0.0247, 0.6476, 0.0010],\n",
              "         [0.0762, 0.6051, 0.1031, 0.9338],\n",
              "         [0.0756, 0.7878, 0.5790, 0.8697]]),\n",
              " torch.float32,\n",
              " torch.Size([3, 4]))"
            ]
          },
          "metadata": {},
          "execution_count": 18
        }
      ]
    },
    {
      "cell_type": "code",
      "source": [
        "# Create a random tensor of size (224, 224, 3)\n",
        "random_tensor = torch.rand(size=(224, 224, 3))\n",
        "random_tensor"
      ],
      "metadata": {
        "colab": {
          "base_uri": "https://localhost:8080/"
        },
        "id": "ssAMAI5UpRuK",
        "outputId": "ca27673f-223e-4ff5-fdae-24fd5c97aaec"
      },
      "execution_count": 20,
      "outputs": [
        {
          "output_type": "execute_result",
          "data": {
            "text/plain": [
              "tensor([[[0.9289, 0.1445, 0.6574],\n",
              "         [0.0146, 0.5076, 0.3897],\n",
              "         [0.3652, 0.7087, 0.6063],\n",
              "         ...,\n",
              "         [0.2529, 0.9690, 0.2119],\n",
              "         [0.9668, 0.4157, 0.7515],\n",
              "         [0.8255, 0.6434, 0.3248]],\n",
              "\n",
              "        [[0.4370, 0.8064, 0.8989],\n",
              "         [0.5618, 0.1624, 0.9115],\n",
              "         [0.7847, 0.3818, 0.8701],\n",
              "         ...,\n",
              "         [0.9022, 0.7681, 0.3907],\n",
              "         [0.2999, 0.0845, 0.2878],\n",
              "         [0.0127, 0.7979, 0.9146]],\n",
              "\n",
              "        [[0.2213, 0.9907, 0.4535],\n",
              "         [0.1975, 0.0568, 0.2227],\n",
              "         [0.7876, 0.1837, 0.3817],\n",
              "         ...,\n",
              "         [0.9547, 0.2543, 0.7035],\n",
              "         [0.8790, 0.0312, 0.2884],\n",
              "         [0.1896, 0.0752, 0.2943]],\n",
              "\n",
              "        ...,\n",
              "\n",
              "        [[0.7218, 0.5805, 0.5715],\n",
              "         [0.7627, 0.1761, 0.9691],\n",
              "         [0.6509, 0.8256, 0.4193],\n",
              "         ...,\n",
              "         [0.4081, 0.0883, 0.3361],\n",
              "         [0.8192, 0.5243, 0.4593],\n",
              "         [0.5530, 0.3796, 0.7997]],\n",
              "\n",
              "        [[0.4101, 0.3823, 0.7213],\n",
              "         [0.7572, 0.5776, 0.3817],\n",
              "         [0.1588, 0.8924, 0.0630],\n",
              "         ...,\n",
              "         [0.4274, 0.9800, 0.1636],\n",
              "         [0.3979, 0.9629, 0.8588],\n",
              "         [0.2924, 0.7378, 0.0439]],\n",
              "\n",
              "        [[0.6992, 0.1582, 0.9817],\n",
              "         [0.9785, 0.8428, 0.1695],\n",
              "         [0.8082, 0.6382, 0.3257],\n",
              "         ...,\n",
              "         [0.1620, 0.9363, 0.2341],\n",
              "         [0.1892, 0.9297, 0.2233],\n",
              "         [0.0628, 0.0565, 0.5433]]])"
            ]
          },
          "metadata": {},
          "execution_count": 20
        }
      ]
    },
    {
      "cell_type": "code",
      "source": [
        "zeros_tensor = torch.zeros(size=(3,4))\n",
        "zeros_tensor"
      ],
      "metadata": {
        "colab": {
          "base_uri": "https://localhost:8080/"
        },
        "id": "MDo4TJIap4LV",
        "outputId": "1936722f-2caf-4e65-f6d1-7207a142db6c"
      },
      "execution_count": 22,
      "outputs": [
        {
          "output_type": "execute_result",
          "data": {
            "text/plain": [
              "tensor([[0., 0., 0., 0.],\n",
              "        [0., 0., 0., 0.],\n",
              "        [0., 0., 0., 0.]])"
            ]
          },
          "metadata": {},
          "execution_count": 22
        }
      ]
    },
    {
      "cell_type": "code",
      "source": [
        "ones_tensor = torch.ones(size=(3, 4))\n",
        "ones_tensor"
      ],
      "metadata": {
        "colab": {
          "base_uri": "https://localhost:8080/"
        },
        "id": "We1xMWbyqDYF",
        "outputId": "31549d3b-38da-457a-be13-f4286649132d"
      },
      "execution_count": 24,
      "outputs": [
        {
          "output_type": "execute_result",
          "data": {
            "text/plain": [
              "tensor([[1., 1., 1., 1.],\n",
              "        [1., 1., 1., 1.],\n",
              "        [1., 1., 1., 1.]])"
            ]
          },
          "metadata": {},
          "execution_count": 24
        }
      ]
    },
    {
      "cell_type": "code",
      "source": [
        "rng = torch.arange(0, 11, 2)\n",
        "rng"
      ],
      "metadata": {
        "colab": {
          "base_uri": "https://localhost:8080/"
        },
        "id": "gxsilX2GqKHG",
        "outputId": "2f2d2c04-ed4f-4963-8f80-8a751583982f"
      },
      "execution_count": 27,
      "outputs": [
        {
          "output_type": "execute_result",
          "data": {
            "text/plain": [
              "tensor([ 0,  2,  4,  6,  8, 10])"
            ]
          },
          "metadata": {},
          "execution_count": 27
        }
      ]
    },
    {
      "cell_type": "code",
      "source": [
        "X = torch.zeros_like(rng)\n",
        "X"
      ],
      "metadata": {
        "colab": {
          "base_uri": "https://localhost:8080/"
        },
        "id": "jLiU5rKkqT_i",
        "outputId": "f9b1aa8c-f1a1-417a-8240-7951ec0d8494"
      },
      "execution_count": 29,
      "outputs": [
        {
          "output_type": "execute_result",
          "data": {
            "text/plain": [
              "tensor([0, 0, 0, 0, 0, 0])"
            ]
          },
          "metadata": {},
          "execution_count": 29
        }
      ]
    },
    {
      "cell_type": "code",
      "source": [
        "Y = torch.ones_like(rng)\n",
        "Y"
      ],
      "metadata": {
        "colab": {
          "base_uri": "https://localhost:8080/"
        },
        "id": "o8aoqUhsqixb",
        "outputId": "e877df66-7001-4572-ebd5-b6429aa095cc"
      },
      "execution_count": 30,
      "outputs": [
        {
          "output_type": "execute_result",
          "data": {
            "text/plain": [
              "tensor([1, 1, 1, 1, 1, 1])"
            ]
          },
          "metadata": {},
          "execution_count": 30
        }
      ]
    },
    {
      "cell_type": "code",
      "source": [
        "float_32_tensor = torch.tensor([3.0, 6.0, 9.0],\n",
        "                               dtype=None,\n",
        "                               device=None,\n",
        "                               requires_grad=False)\n",
        "float_32_tensor.shape, float_32_tensor.dtype, float_32_tensor.device"
      ],
      "metadata": {
        "colab": {
          "base_uri": "https://localhost:8080/"
        },
        "id": "YMgnFX17qnpY",
        "outputId": "90d68472-3e67-4cc8-deda-114a5b77c006"
      },
      "execution_count": 31,
      "outputs": [
        {
          "output_type": "execute_result",
          "data": {
            "text/plain": [
              "(torch.Size([3]), torch.float32, device(type='cpu'))"
            ]
          },
          "metadata": {},
          "execution_count": 31
        }
      ]
    },
    {
      "cell_type": "code",
      "source": [
        "float_16_tensor = torch.tensor([3.0, 6.0, 9.0],\n",
        "                               dtype=torch.float16)\n",
        "float_16_tensor.dtype"
      ],
      "metadata": {
        "colab": {
          "base_uri": "https://localhost:8080/"
        },
        "id": "lBOsiLY8sKiI",
        "outputId": "03be9751-1a08-4de0-b0a1-0b5f3011a79e"
      },
      "execution_count": 33,
      "outputs": [
        {
          "output_type": "execute_result",
          "data": {
            "text/plain": [
              "torch.float16"
            ]
          },
          "metadata": {},
          "execution_count": 33
        }
      ]
    },
    {
      "cell_type": "code",
      "source": [
        "# Create a tensor\n",
        "some_tensor = torch.rand(3, 4)\n",
        "\n",
        "# Details\n",
        "print(some_tensor)\n",
        "print(f\"Shape of tensor: {some_tensor.shape}\")\n",
        "print(f\"Data type of tensor: {some_tensor.dtype}\")\n",
        "print(f\"Device of the tensor: {some_tensor.device}\")"
      ],
      "metadata": {
        "colab": {
          "base_uri": "https://localhost:8080/"
        },
        "id": "yWbqjY3BsdPg",
        "outputId": "1ad0654e-1c60-4a74-e296-254396ad34c5"
      },
      "execution_count": 34,
      "outputs": [
        {
          "output_type": "stream",
          "name": "stdout",
          "text": [
            "tensor([[0.1999, 0.5566, 0.7687, 0.1795],\n",
            "        [0.9730, 0.2929, 0.5383, 0.5740],\n",
            "        [0.8101, 0.8404, 0.3248, 0.5910]])\n",
            "Shape of tensor: torch.Size([3, 4])\n",
            "Data type of tensor: torch.float32\n",
            "Device of the tensor: cpu\n"
          ]
        }
      ]
    },
    {
      "cell_type": "code",
      "source": [
        "tensor = torch.tensor([1, 2, 3])\n",
        "tensor + 10"
      ],
      "metadata": {
        "colab": {
          "base_uri": "https://localhost:8080/"
        },
        "id": "Gypeza6ps8_R",
        "outputId": "142b458d-c7f7-4cd2-a548-e4f92c3ec27c"
      },
      "execution_count": 35,
      "outputs": [
        {
          "output_type": "execute_result",
          "data": {
            "text/plain": [
              "tensor([11, 12, 13])"
            ]
          },
          "metadata": {},
          "execution_count": 35
        }
      ]
    },
    {
      "cell_type": "code",
      "source": [
        "tensor * 10"
      ],
      "metadata": {
        "colab": {
          "base_uri": "https://localhost:8080/"
        },
        "id": "fBG5y3IatP8n",
        "outputId": "1c7d5821-aff6-456d-9294-db1c69c54546"
      },
      "execution_count": 36,
      "outputs": [
        {
          "output_type": "execute_result",
          "data": {
            "text/plain": [
              "tensor([10, 20, 30])"
            ]
          },
          "metadata": {},
          "execution_count": 36
        }
      ]
    },
    {
      "cell_type": "code",
      "source": [
        "tensor - 10"
      ],
      "metadata": {
        "colab": {
          "base_uri": "https://localhost:8080/"
        },
        "id": "B8F40vUPtSjb",
        "outputId": "6946b854-c2b5-4e3f-cf1d-b8db8cc94ddd"
      },
      "execution_count": 37,
      "outputs": [
        {
          "output_type": "execute_result",
          "data": {
            "text/plain": [
              "tensor([-9, -8, -7])"
            ]
          },
          "metadata": {},
          "execution_count": 37
        }
      ]
    },
    {
      "cell_type": "code",
      "source": [
        "torch.mul(tensor, 10)"
      ],
      "metadata": {
        "colab": {
          "base_uri": "https://localhost:8080/"
        },
        "id": "Kd4QJqBAtWyN",
        "outputId": "24393fb6-4aad-4aaa-ee53-f9f9b0622a4a"
      },
      "execution_count": 38,
      "outputs": [
        {
          "output_type": "execute_result",
          "data": {
            "text/plain": [
              "tensor([10, 20, 30])"
            ]
          },
          "metadata": {},
          "execution_count": 38
        }
      ]
    },
    {
      "cell_type": "code",
      "source": [
        "tensor.add(10)"
      ],
      "metadata": {
        "colab": {
          "base_uri": "https://localhost:8080/"
        },
        "id": "8t5dDodxtcj6",
        "outputId": "b0966412-4c94-4d21-877e-351363020335"
      },
      "execution_count": 40,
      "outputs": [
        {
          "output_type": "execute_result",
          "data": {
            "text/plain": [
              "tensor([11, 12, 13])"
            ]
          },
          "metadata": {},
          "execution_count": 40
        }
      ]
    },
    {
      "cell_type": "code",
      "source": [
        "tensor = torch.tensor([1, 2, 3])\n",
        "tensor.shape"
      ],
      "metadata": {
        "colab": {
          "base_uri": "https://localhost:8080/"
        },
        "id": "xTGhgj8XtfOz",
        "outputId": "e878dfc8-26a6-4537-e70a-b07275bcbeb7"
      },
      "execution_count": 41,
      "outputs": [
        {
          "output_type": "execute_result",
          "data": {
            "text/plain": [
              "torch.Size([3])"
            ]
          },
          "metadata": {},
          "execution_count": 41
        }
      ]
    },
    {
      "cell_type": "code",
      "source": [
        "tensor * tensor, torch.matmul(tensor, tensor)"
      ],
      "metadata": {
        "colab": {
          "base_uri": "https://localhost:8080/"
        },
        "id": "E_pBiFzltyQ7",
        "outputId": "d667149e-73dc-4f0c-a7cc-ce75c3b109e7"
      },
      "execution_count": 43,
      "outputs": [
        {
          "output_type": "execute_result",
          "data": {
            "text/plain": [
              "(tensor([1, 4, 9]), tensor(14))"
            ]
          },
          "metadata": {},
          "execution_count": 43
        }
      ]
    },
    {
      "cell_type": "code",
      "source": [
        "# Shapes need to be in the right way\n",
        "tensor_A = torch.tensor([[1, 2],\n",
        "                         [3, 4],\n",
        "                         [5, 6]], dtype=torch.float32)\n",
        "\n",
        "tensor_B = torch.tensor([[7, 10],\n",
        "                         [8, 11],\n",
        "                         [9, 12]], dtype=torch.float32)\n",
        "\n",
        "torch.matmul(tensor_A, tensor_B) # (this will error)\n"
      ],
      "metadata": {
        "colab": {
          "base_uri": "https://localhost:8080/",
          "height": 210
        },
        "id": "KGO-pnS7t9w2",
        "outputId": "4c0e9098-1464-4f41-b55b-4a1b30ba56b9"
      },
      "execution_count": 44,
      "outputs": [
        {
          "output_type": "error",
          "ename": "RuntimeError",
          "evalue": "ignored",
          "traceback": [
            "\u001b[0;31m---------------------------------------------------------------------------\u001b[0m",
            "\u001b[0;31mRuntimeError\u001b[0m                              Traceback (most recent call last)",
            "\u001b[0;32m<ipython-input-44-aceec990e652>\u001b[0m in \u001b[0;36m<cell line: 10>\u001b[0;34m()\u001b[0m\n\u001b[1;32m      8\u001b[0m                          [9, 12]], dtype=torch.float32)\n\u001b[1;32m      9\u001b[0m \u001b[0;34m\u001b[0m\u001b[0m\n\u001b[0;32m---> 10\u001b[0;31m \u001b[0mtorch\u001b[0m\u001b[0;34m.\u001b[0m\u001b[0mmatmul\u001b[0m\u001b[0;34m(\u001b[0m\u001b[0mtensor_A\u001b[0m\u001b[0;34m,\u001b[0m \u001b[0mtensor_B\u001b[0m\u001b[0;34m)\u001b[0m \u001b[0;31m# (this will error)\u001b[0m\u001b[0;34m\u001b[0m\u001b[0;34m\u001b[0m\u001b[0m\n\u001b[0m",
            "\u001b[0;31mRuntimeError\u001b[0m: mat1 and mat2 shapes cannot be multiplied (3x2 and 3x2)"
          ]
        }
      ]
    },
    {
      "cell_type": "code",
      "source": [
        "print(tensor_A)\n",
        "print(tensor_B)"
      ],
      "metadata": {
        "colab": {
          "base_uri": "https://localhost:8080/"
        },
        "id": "SK628obeuW7u",
        "outputId": "c7d16f02-fae4-42cd-a4a9-e2fd0dc78e77"
      },
      "execution_count": 45,
      "outputs": [
        {
          "output_type": "stream",
          "name": "stdout",
          "text": [
            "tensor([[1., 2.],\n",
            "        [3., 4.],\n",
            "        [5., 6.]])\n",
            "tensor([[ 7., 10.],\n",
            "        [ 8., 11.],\n",
            "        [ 9., 12.]])\n"
          ]
        }
      ]
    },
    {
      "cell_type": "code",
      "source": [
        "print(tensor_A)\n",
        "print(tensor_B.T)"
      ],
      "metadata": {
        "colab": {
          "base_uri": "https://localhost:8080/"
        },
        "id": "8pZD-5eQuf3Q",
        "outputId": "30f414d2-1eb1-4085-c925-0d34e4e6042b"
      },
      "execution_count": 46,
      "outputs": [
        {
          "output_type": "stream",
          "name": "stdout",
          "text": [
            "tensor([[1., 2.],\n",
            "        [3., 4.],\n",
            "        [5., 6.]])\n",
            "tensor([[ 7.,  8.,  9.],\n",
            "        [10., 11., 12.]])\n"
          ]
        }
      ]
    },
    {
      "cell_type": "code",
      "source": [
        "torch.matmul(tensor_A, tensor_B.T)"
      ],
      "metadata": {
        "colab": {
          "base_uri": "https://localhost:8080/"
        },
        "id": "YW1_VojBulOr",
        "outputId": "89845981-c5d0-4c61-a50f-8a660cc72ac2"
      },
      "execution_count": 48,
      "outputs": [
        {
          "output_type": "execute_result",
          "data": {
            "text/plain": [
              "tensor([[ 27.,  30.,  33.],\n",
              "        [ 61.,  68.,  75.],\n",
              "        [ 95., 106., 117.]])"
            ]
          },
          "metadata": {},
          "execution_count": 48
        }
      ]
    },
    {
      "cell_type": "code",
      "source": [
        "# Since the linear layer starts with a random weights matrix, let's make it reproducible (more on this later)\n",
        "torch.manual_seed(42)\n",
        "# This uses matrix multiplication\n",
        "linear = torch.nn.Linear(in_features=2, # in_features = matches inner dimension of input\n",
        "                         out_features=6) # out_features = describes outer value\n",
        "x = tensor_A\n",
        "output = linear(x)\n",
        "print(f\"Input shape: {x.shape}\\n\")\n",
        "print(f\"Output:\\n{output}\\n\\nOutput shape: {output.shape}\")"
      ],
      "metadata": {
        "colab": {
          "base_uri": "https://localhost:8080/"
        },
        "id": "LND0qxGOurBE",
        "outputId": "3d94ab92-8d01-44f5-ebde-b83028b5fab1"
      },
      "execution_count": 49,
      "outputs": [
        {
          "output_type": "stream",
          "name": "stdout",
          "text": [
            "Input shape: torch.Size([3, 2])\n",
            "\n",
            "Output:\n",
            "tensor([[2.2368, 1.2292, 0.4714, 0.3864, 0.1309, 0.9838],\n",
            "        [4.4919, 2.1970, 0.4469, 0.5285, 0.3401, 2.4777],\n",
            "        [6.7469, 3.1648, 0.4224, 0.6705, 0.5493, 3.9716]],\n",
            "       grad_fn=<AddmmBackward0>)\n",
            "\n",
            "Output shape: torch.Size([3, 6])\n"
          ]
        }
      ]
    },
    {
      "cell_type": "code",
      "source": [
        "tensor = torch.arange(0, 101, 10)\n",
        "tensor, tensor.argmin(), tensor.argmax()"
      ],
      "metadata": {
        "colab": {
          "base_uri": "https://localhost:8080/"
        },
        "id": "o1-N2nxtwGo1",
        "outputId": "c10893f0-a679-409f-bd59-22362befcdc9"
      },
      "execution_count": 50,
      "outputs": [
        {
          "output_type": "execute_result",
          "data": {
            "text/plain": [
              "(tensor([  0,  10,  20,  30,  40,  50,  60,  70,  80,  90, 100]),\n",
              " tensor(0),\n",
              " tensor(10))"
            ]
          },
          "metadata": {},
          "execution_count": 50
        }
      ]
    },
    {
      "cell_type": "code",
      "source": [
        "tensor.dtype"
      ],
      "metadata": {
        "colab": {
          "base_uri": "https://localhost:8080/"
        },
        "id": "Ob4f08n5wOfj",
        "outputId": "54b0d90e-a573-4d03-d437-a9c1c940b614"
      },
      "execution_count": 51,
      "outputs": [
        {
          "output_type": "execute_result",
          "data": {
            "text/plain": [
              "torch.int64"
            ]
          },
          "metadata": {},
          "execution_count": 51
        }
      ]
    },
    {
      "cell_type": "code",
      "source": [
        "tensor_int_32 = tensor.type(dtype=torch.int32)"
      ],
      "metadata": {
        "id": "JkA48S8swoHF"
      },
      "execution_count": 54,
      "outputs": []
    },
    {
      "cell_type": "code",
      "source": [
        "# Create a tensor\n",
        "x = torch.arange(1, 11)\n",
        "x, x.shape"
      ],
      "metadata": {
        "colab": {
          "base_uri": "https://localhost:8080/"
        },
        "id": "0gD-9ItCwzhG",
        "outputId": "84b98c19-a74a-4350-b389-8dafd71b5fa8"
      },
      "execution_count": 56,
      "outputs": [
        {
          "output_type": "execute_result",
          "data": {
            "text/plain": [
              "(tensor([ 1,  2,  3,  4,  5,  6,  7,  8,  9, 10]), torch.Size([10]))"
            ]
          },
          "metadata": {},
          "execution_count": 56
        }
      ]
    },
    {
      "cell_type": "code",
      "source": [
        "x_reshaped = x.reshape(2, 5)\n",
        "x_reshaped"
      ],
      "metadata": {
        "colab": {
          "base_uri": "https://localhost:8080/"
        },
        "id": "OxL6Sqarxj3t",
        "outputId": "d5537c3d-74d7-4af1-f5a1-4cb0ff5d17b0"
      },
      "execution_count": 62,
      "outputs": [
        {
          "output_type": "execute_result",
          "data": {
            "text/plain": [
              "tensor([[ 1,  2,  3,  4,  5],\n",
              "        [ 6,  7,  8,  9, 10]])"
            ]
          },
          "metadata": {},
          "execution_count": 62
        }
      ]
    },
    {
      "cell_type": "code",
      "source": [
        "print(f\"Previous tensor: {x_reshaped}\")\n",
        "print(f\"Previous shape: {x_reshaped.shape}\")\n",
        "\n",
        "# Remove extra dimension from x_reshaped\n",
        "x_squeezed = x_reshaped.squeeze()\n",
        "print(f\"\\nNew tensor: {x_squeezed}\")\n",
        "print(f\"New shape: {x_squeezed.shape}\")\n"
      ],
      "metadata": {
        "colab": {
          "base_uri": "https://localhost:8080/"
        },
        "id": "iUu5MwEkxrch",
        "outputId": "08d567d5-a341-4237-c07b-6eb92a700d82"
      },
      "execution_count": 63,
      "outputs": [
        {
          "output_type": "stream",
          "name": "stdout",
          "text": [
            "Previous tensor: tensor([[ 1,  2,  3,  4,  5],\n",
            "        [ 6,  7,  8,  9, 10]])\n",
            "Previous shape: torch.Size([2, 5])\n",
            "\n",
            "New tensor: tensor([[ 1,  2,  3,  4,  5],\n",
            "        [ 6,  7,  8,  9, 10]])\n",
            "New shape: torch.Size([2, 5])\n"
          ]
        }
      ]
    },
    {
      "cell_type": "code",
      "source": [
        "print(f\"Previous tensor: {x_squeezed}\")\n",
        "print(f\"Previous shape: {x_squeezed.shape}\")\n",
        "\n",
        "## Add an extra dimension with unsqueeze\n",
        "x_unsqueezed = x_squeezed.unsqueeze(dim=0)\n",
        "print(f\"\\nNew tensor: {x_unsqueezed}\")\n",
        "print(f\"New shape: {x_unsqueezed.shape}\")"
      ],
      "metadata": {
        "colab": {
          "base_uri": "https://localhost:8080/"
        },
        "id": "C_dprNtayb5N",
        "outputId": "fd320166-801f-45ef-8ba5-5cffe30ff5f2"
      },
      "execution_count": 64,
      "outputs": [
        {
          "output_type": "stream",
          "name": "stdout",
          "text": [
            "Previous tensor: tensor([[ 1,  2,  3,  4,  5],\n",
            "        [ 6,  7,  8,  9, 10]])\n",
            "Previous shape: torch.Size([2, 5])\n",
            "\n",
            "New tensor: tensor([[[ 1,  2,  3,  4,  5],\n",
            "         [ 6,  7,  8,  9, 10]]])\n",
            "New shape: torch.Size([1, 2, 5])\n"
          ]
        }
      ]
    },
    {
      "cell_type": "code",
      "source": [
        "x_original = torch.rand(size=(224, 224, 3))\n",
        "x_original"
      ],
      "metadata": {
        "colab": {
          "base_uri": "https://localhost:8080/"
        },
        "id": "sraZhD1ZylXo",
        "outputId": "d70237c7-2df8-4eca-a3dd-473796e5e980"
      },
      "execution_count": 65,
      "outputs": [
        {
          "output_type": "execute_result",
          "data": {
            "text/plain": [
              "tensor([[[0.2666, 0.6274, 0.2696],\n",
              "         [0.4414, 0.2969, 0.8317],\n",
              "         [0.1053, 0.2695, 0.3588],\n",
              "         ...,\n",
              "         [0.5697, 0.2088, 0.6539],\n",
              "         [0.3397, 0.9565, 0.0660],\n",
              "         [0.3421, 0.0172, 0.3031]],\n",
              "\n",
              "        [[0.6576, 0.9813, 0.5840],\n",
              "         [0.9902, 0.5978, 0.7888],\n",
              "         [0.9008, 0.9180, 0.2201],\n",
              "         ...,\n",
              "         [0.5322, 0.8510, 0.4556],\n",
              "         [0.1844, 0.8533, 0.5698],\n",
              "         [0.3568, 0.1704, 0.6172]],\n",
              "\n",
              "        [[0.0231, 0.6317, 0.7472],\n",
              "         [0.0614, 0.1727, 0.1405],\n",
              "         [0.9203, 0.9251, 0.5313],\n",
              "         ...,\n",
              "         [0.4989, 0.0933, 0.3064],\n",
              "         [0.6272, 0.5955, 0.8636],\n",
              "         [0.8345, 0.2273, 0.2865]],\n",
              "\n",
              "        ...,\n",
              "\n",
              "        [[0.3599, 0.1989, 0.5711],\n",
              "         [0.5387, 0.1378, 0.9763],\n",
              "         [0.5521, 0.6004, 0.1658],\n",
              "         ...,\n",
              "         [0.1790, 0.9954, 0.6617],\n",
              "         [0.9871, 0.5877, 0.7375],\n",
              "         [0.1551, 0.7881, 0.3759]],\n",
              "\n",
              "        [[0.7442, 0.8621, 0.7548],\n",
              "         [0.6381, 0.0106, 0.0893],\n",
              "         [0.6170, 0.3402, 0.8306],\n",
              "         ...,\n",
              "         [0.3450, 0.6359, 0.8216],\n",
              "         [0.9618, 0.7925, 0.2952],\n",
              "         [0.6393, 0.7158, 0.6099]],\n",
              "\n",
              "        [[0.1369, 0.4302, 0.7265],\n",
              "         [0.6237, 0.8480, 0.4580],\n",
              "         [0.2424, 0.8264, 0.0015],\n",
              "         ...,\n",
              "         [0.1167, 0.1133, 0.8600],\n",
              "         [0.2933, 0.5889, 0.4117],\n",
              "         [0.0992, 0.3078, 0.7786]]])"
            ]
          },
          "metadata": {},
          "execution_count": 65
        }
      ]
    },
    {
      "cell_type": "code",
      "source": [
        "x_permuted = x_original.permute(2, 0 , 1)\n",
        "x_permuted"
      ],
      "metadata": {
        "colab": {
          "base_uri": "https://localhost:8080/"
        },
        "id": "O7uKRC67zBLL",
        "outputId": "0ca81ae2-5b8e-4f5b-d82b-92d912473eec"
      },
      "execution_count": 66,
      "outputs": [
        {
          "output_type": "execute_result",
          "data": {
            "text/plain": [
              "tensor([[[0.2666, 0.4414, 0.1053,  ..., 0.5697, 0.3397, 0.3421],\n",
              "         [0.6576, 0.9902, 0.9008,  ..., 0.5322, 0.1844, 0.3568],\n",
              "         [0.0231, 0.0614, 0.9203,  ..., 0.4989, 0.6272, 0.8345],\n",
              "         ...,\n",
              "         [0.3599, 0.5387, 0.5521,  ..., 0.1790, 0.9871, 0.1551],\n",
              "         [0.7442, 0.6381, 0.6170,  ..., 0.3450, 0.9618, 0.6393],\n",
              "         [0.1369, 0.6237, 0.2424,  ..., 0.1167, 0.2933, 0.0992]],\n",
              "\n",
              "        [[0.6274, 0.2969, 0.2695,  ..., 0.2088, 0.9565, 0.0172],\n",
              "         [0.9813, 0.5978, 0.9180,  ..., 0.8510, 0.8533, 0.1704],\n",
              "         [0.6317, 0.1727, 0.9251,  ..., 0.0933, 0.5955, 0.2273],\n",
              "         ...,\n",
              "         [0.1989, 0.1378, 0.6004,  ..., 0.9954, 0.5877, 0.7881],\n",
              "         [0.8621, 0.0106, 0.3402,  ..., 0.6359, 0.7925, 0.7158],\n",
              "         [0.4302, 0.8480, 0.8264,  ..., 0.1133, 0.5889, 0.3078]],\n",
              "\n",
              "        [[0.2696, 0.8317, 0.3588,  ..., 0.6539, 0.0660, 0.3031],\n",
              "         [0.5840, 0.7888, 0.2201,  ..., 0.4556, 0.5698, 0.6172],\n",
              "         [0.7472, 0.1405, 0.5313,  ..., 0.3064, 0.8636, 0.2865],\n",
              "         ...,\n",
              "         [0.5711, 0.9763, 0.1658,  ..., 0.6617, 0.7375, 0.3759],\n",
              "         [0.7548, 0.0893, 0.8306,  ..., 0.8216, 0.2952, 0.6099],\n",
              "         [0.7265, 0.4580, 0.0015,  ..., 0.8600, 0.4117, 0.7786]]])"
            ]
          },
          "metadata": {},
          "execution_count": 66
        }
      ]
    },
    {
      "cell_type": "code",
      "source": [
        "# NumPy array to tensor\n",
        "import torch\n",
        "import numpy as np\n",
        "array = np.arange(1.0, 8.0)\n",
        "tensor = torch.from_numpy(array)\n",
        "array, tensor"
      ],
      "metadata": {
        "colab": {
          "base_uri": "https://localhost:8080/"
        },
        "id": "z9rKbE55zKeI",
        "outputId": "936a88f8-e16c-41f3-c44b-ab1911655b7b"
      },
      "execution_count": 67,
      "outputs": [
        {
          "output_type": "execute_result",
          "data": {
            "text/plain": [
              "(array([1., 2., 3., 4., 5., 6., 7.]),\n",
              " tensor([1., 2., 3., 4., 5., 6., 7.], dtype=torch.float64))"
            ]
          },
          "metadata": {},
          "execution_count": 67
        }
      ]
    },
    {
      "cell_type": "code",
      "source": [
        "device = \"cuda\" if torch.cuda.is_available() else \"cpu\"\n",
        "device"
      ],
      "metadata": {
        "colab": {
          "base_uri": "https://localhost:8080/",
          "height": 35
        },
        "id": "CDs65BuhzqB5",
        "outputId": "85070be4-61c1-45f0-fce5-aaa12ab93b81"
      },
      "execution_count": 68,
      "outputs": [
        {
          "output_type": "execute_result",
          "data": {
            "text/plain": [
              "'cpu'"
            ],
            "application/vnd.google.colaboratory.intrinsic+json": {
              "type": "string"
            }
          },
          "metadata": {},
          "execution_count": 68
        }
      ]
    },
    {
      "cell_type": "code",
      "source": [],
      "metadata": {
        "id": "TuYIGoV3z-Kz"
      },
      "execution_count": null,
      "outputs": []
    }
  ]
}