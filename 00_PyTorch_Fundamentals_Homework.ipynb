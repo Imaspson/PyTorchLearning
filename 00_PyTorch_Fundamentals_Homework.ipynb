{
  "nbformat": 4,
  "nbformat_minor": 0,
  "metadata": {
    "colab": {
      "provenance": [],
      "gpuType": "T4",
      "authorship_tag": "ABX9TyNiTu5KVctKgis+x+gB5S7e",
      "include_colab_link": true
    },
    "kernelspec": {
      "name": "python3",
      "display_name": "Python 3"
    },
    "language_info": {
      "name": "python"
    },
    "accelerator": "GPU"
  },
  "cells": [
    {
      "cell_type": "markdown",
      "metadata": {
        "id": "view-in-github",
        "colab_type": "text"
      },
      "source": [
        "<a href=\"https://colab.research.google.com/github/Imaspson/PyTorchLearning/blob/main/00_PyTorch_Fundamentals_Homework.ipynb\" target=\"_parent\"><img src=\"https://colab.research.google.com/assets/colab-badge.svg\" alt=\"Open In Colab\"/></a>"
      ]
    },
    {
      "cell_type": "markdown",
      "source": [
        "Create a random tensor with shape `(7, 7)`"
      ],
      "metadata": {
        "id": "iPc2Di0Hs7GX"
      }
    },
    {
      "cell_type": "code",
      "execution_count": 1,
      "metadata": {
        "id": "2k62THiOsyLx"
      },
      "outputs": [],
      "source": [
        "import torch\n"
      ]
    },
    {
      "cell_type": "code",
      "source": [
        "rand_tensor = torch.rand(7, 7)\n",
        "rand_tensor"
      ],
      "metadata": {
        "colab": {
          "base_uri": "https://localhost:8080/"
        },
        "id": "lXfZB0Rf64ru",
        "outputId": "3d43813c-ea35-4f0b-c974-98295c63ae87"
      },
      "execution_count": 2,
      "outputs": [
        {
          "output_type": "execute_result",
          "data": {
            "text/plain": [
              "tensor([[0.2476, 0.2434, 0.5192, 0.9685, 0.8151, 0.6061, 0.8335],\n",
              "        [0.9197, 0.1981, 0.3847, 0.0237, 0.1416, 0.2539, 0.3802],\n",
              "        [0.4734, 0.7870, 0.6078, 0.9714, 0.9909, 0.6567, 0.9345],\n",
              "        [0.6916, 0.8012, 0.6874, 0.8097, 0.3841, 0.8634, 0.7924],\n",
              "        [0.4379, 0.4349, 0.2765, 0.5945, 0.3624, 0.3489, 0.9443],\n",
              "        [0.9783, 0.7965, 0.3143, 0.7570, 0.7353, 0.3765, 0.0717],\n",
              "        [0.2041, 0.1054, 0.7945, 0.2780, 0.8987, 0.2834, 0.8979]])"
            ]
          },
          "metadata": {},
          "execution_count": 2
        }
      ]
    },
    {
      "cell_type": "markdown",
      "source": [
        "Perform a matrix multiplication on the tensor above with another tensor with shape `(1, 7)`"
      ],
      "metadata": {
        "id": "HE8idCbDCd2E"
      }
    },
    {
      "cell_type": "code",
      "source": [
        "second_rand_tensor = torch.rand(1, 7)\n",
        "second_rand_tensor.shape"
      ],
      "metadata": {
        "colab": {
          "base_uri": "https://localhost:8080/"
        },
        "id": "YGmbVmhz7AVu",
        "outputId": "2078aece-eb82-46fe-d0aa-18718a5d3b7a"
      },
      "execution_count": 3,
      "outputs": [
        {
          "output_type": "execute_result",
          "data": {
            "text/plain": [
              "torch.Size([1, 7])"
            ]
          },
          "metadata": {},
          "execution_count": 3
        }
      ]
    },
    {
      "cell_type": "code",
      "source": [
        "transposed_second_tensor = second_rand_tensor.T\n",
        "transposed_second_tensor"
      ],
      "metadata": {
        "colab": {
          "base_uri": "https://localhost:8080/"
        },
        "id": "pHlzZ0p7CReX",
        "outputId": "1c648d63-6ff6-4637-db8c-5c49562043a5"
      },
      "execution_count": 4,
      "outputs": [
        {
          "output_type": "execute_result",
          "data": {
            "text/plain": [
              "tensor([[0.5560],\n",
              "        [0.8814],\n",
              "        [0.4196],\n",
              "        [0.5507],\n",
              "        [0.7254],\n",
              "        [0.3013],\n",
              "        [0.0088]])"
            ]
          },
          "metadata": {},
          "execution_count": 4
        }
      ]
    },
    {
      "cell_type": "code",
      "source": [
        "result = torch.matmul(rand_tensor, transposed_second_tensor)\n",
        "result"
      ],
      "metadata": {
        "colab": {
          "base_uri": "https://localhost:8080/"
        },
        "id": "umeN7X_hCbjd",
        "outputId": "80cd93a2-82c5-4b97-fb16-50c6ebb621b8"
      },
      "execution_count": 5,
      "outputs": [
        {
          "output_type": "execute_result",
          "data": {
            "text/plain": [
              "tensor([[1.8846],\n",
              "        [1.0429],\n",
              "        [2.6716],\n",
              "        [2.3707],\n",
              "        [1.4465],\n",
              "        [2.4422],\n",
              "        [1.4380]])"
            ]
          },
          "metadata": {},
          "execution_count": 5
        }
      ]
    },
    {
      "cell_type": "markdown",
      "source": [
        "Set the random seed to `0` and do exercises 2 & 3 again"
      ],
      "metadata": {
        "id": "3YTt6mCnC4yJ"
      }
    },
    {
      "cell_type": "code",
      "source": [
        "RANDOM_SEED = 0\n",
        "\n",
        "torch.manual_seed(RANDOM_SEED)\n",
        "first_one = torch.rand(7, 7)\n",
        "\n",
        "torch.manual_seed(RANDOM_SEED)\n",
        "second_one = torch.rand(1, 7)\n",
        "\n",
        "transposed_second_one = second_one.T\n",
        "new_res = torch.matmul(first_one, transposed_second_one)\n",
        "new_res\n"
      ],
      "metadata": {
        "colab": {
          "base_uri": "https://localhost:8080/"
        },
        "id": "mBCF8t8kCzAi",
        "outputId": "9da8a633-0061-40cb-8883-c7a25332fa3d"
      },
      "execution_count": 6,
      "outputs": [
        {
          "output_type": "execute_result",
          "data": {
            "text/plain": [
              "tensor([[1.5985],\n",
              "        [1.1173],\n",
              "        [1.2741],\n",
              "        [1.6838],\n",
              "        [0.8279],\n",
              "        [1.0347],\n",
              "        [1.2498]])"
            ]
          },
          "metadata": {},
          "execution_count": 6
        }
      ]
    },
    {
      "cell_type": "markdown",
      "source": [
        "Create two random tensors of shape `(2, 3)` and send them both to the GPU (you'll need access to a GPU for this). Set `torch.manual_seed(1234)` when creating the tensors (this doesn't have to be the gpu random seed)"
      ],
      "metadata": {
        "id": "DyzRtcUdYuri"
      }
    },
    {
      "cell_type": "code",
      "source": [
        "device = \"cuda\" if torch.cuda.is_available() else \"cpu\"\n",
        "device"
      ],
      "metadata": {
        "colab": {
          "base_uri": "https://localhost:8080/",
          "height": 36
        },
        "id": "832e7EGlDbT3",
        "outputId": "7b6e46d4-c3d6-44f2-c35e-c26684d9bd6c"
      },
      "execution_count": 14,
      "outputs": [
        {
          "output_type": "execute_result",
          "data": {
            "text/plain": [
              "'cuda'"
            ],
            "application/vnd.google.colaboratory.intrinsic+json": {
              "type": "string"
            }
          },
          "metadata": {},
          "execution_count": 14
        }
      ]
    },
    {
      "cell_type": "code",
      "source": [
        "torch.manual_seed(1234)\n",
        "t1 = torch.rand(2, 3)\n",
        "t1 = t1.to(device)\n",
        "\n",
        "torch.manual_seed(1234)\n",
        "t2 = torch.rand(2, 3)\n",
        "t2 = t2.to(device)"
      ],
      "metadata": {
        "id": "5XU87yZaYdWm"
      },
      "execution_count": 18,
      "outputs": []
    },
    {
      "cell_type": "code",
      "source": [
        "t1.device, t2.device"
      ],
      "metadata": {
        "colab": {
          "base_uri": "https://localhost:8080/"
        },
        "id": "H-_RNfGNZMYe",
        "outputId": "29f094c9-4976-43e2-9063-95606dd544c2"
      },
      "execution_count": 19,
      "outputs": [
        {
          "output_type": "execute_result",
          "data": {
            "text/plain": [
              "(device(type='cuda', index=0), device(type='cuda', index=0))"
            ]
          },
          "metadata": {},
          "execution_count": 19
        }
      ]
    },
    {
      "cell_type": "markdown",
      "source": [
        "Perform a matrix multiplication on the tensors you created"
      ],
      "metadata": {
        "id": "uJKFwow3Z2Ot"
      }
    },
    {
      "cell_type": "code",
      "source": [
        "t2 = t2.T\n",
        "t2"
      ],
      "metadata": {
        "colab": {
          "base_uri": "https://localhost:8080/"
        },
        "id": "__RIY5a2ZOWu",
        "outputId": "1d631150-a994-47a0-8263-1f7f02f6ee69"
      },
      "execution_count": 20,
      "outputs": [
        {
          "output_type": "execute_result",
          "data": {
            "text/plain": [
              "tensor([[0.0290, 0.3666],\n",
              "        [0.4019, 0.0583],\n",
              "        [0.2598, 0.7006]], device='cuda:0')"
            ]
          },
          "metadata": {},
          "execution_count": 20
        }
      ]
    },
    {
      "cell_type": "code",
      "source": [
        "result = torch.matmul(t1, t2)\n",
        "result"
      ],
      "metadata": {
        "colab": {
          "base_uri": "https://localhost:8080/"
        },
        "id": "3TLRDIp0ZykX",
        "outputId": "f10171c0-d18b-4681-8dd5-a832978142c0"
      },
      "execution_count": 21,
      "outputs": [
        {
          "output_type": "execute_result",
          "data": {
            "text/plain": [
              "tensor([[0.2299, 0.2161],\n",
              "        [0.2161, 0.6287]], device='cuda:0')"
            ]
          },
          "metadata": {},
          "execution_count": 21
        }
      ]
    },
    {
      "cell_type": "markdown",
      "source": [
        "Find the maximum and minimum values of the output of 7"
      ],
      "metadata": {
        "id": "BbG1PWHxaFqk"
      }
    },
    {
      "cell_type": "code",
      "source": [
        "maximum = torch.max(result)\n",
        "maximum"
      ],
      "metadata": {
        "colab": {
          "base_uri": "https://localhost:8080/"
        },
        "id": "0oEQrGAJaASK",
        "outputId": "aee187e2-0d11-42b8-d2fe-895789c4e84b"
      },
      "execution_count": 25,
      "outputs": [
        {
          "output_type": "execute_result",
          "data": {
            "text/plain": [
              "tensor(0.6287, device='cuda:0')"
            ]
          },
          "metadata": {},
          "execution_count": 25
        }
      ]
    },
    {
      "cell_type": "code",
      "source": [
        "minimum = torch.min(result)\n",
        "minimum"
      ],
      "metadata": {
        "colab": {
          "base_uri": "https://localhost:8080/"
        },
        "id": "RXfd-27_aOcw",
        "outputId": "8043df4f-f17f-4add-da0d-e8f8ec22c732"
      },
      "execution_count": 24,
      "outputs": [
        {
          "output_type": "execute_result",
          "data": {
            "text/plain": [
              "tensor(0.2161, device='cuda:0')"
            ]
          },
          "metadata": {},
          "execution_count": 24
        }
      ]
    },
    {
      "cell_type": "markdown",
      "source": [
        "Find the maximum and minimum index values of the output of 7"
      ],
      "metadata": {
        "id": "Y9bd5MIKapXW"
      }
    },
    {
      "cell_type": "code",
      "source": [
        "max_index = torch.argmax(result)\n",
        "max_index"
      ],
      "metadata": {
        "colab": {
          "base_uri": "https://localhost:8080/"
        },
        "id": "EN1e_HmEaVEc",
        "outputId": "6efa356c-4cd6-45ef-c603-5978747a1fe0"
      },
      "execution_count": 26,
      "outputs": [
        {
          "output_type": "execute_result",
          "data": {
            "text/plain": [
              "tensor(3, device='cuda:0')"
            ]
          },
          "metadata": {},
          "execution_count": 26
        }
      ]
    },
    {
      "cell_type": "code",
      "source": [
        "min_index = torch.argmin(result)\n",
        "min_index"
      ],
      "metadata": {
        "colab": {
          "base_uri": "https://localhost:8080/"
        },
        "id": "E_-8RZZXaz5q",
        "outputId": "4e538f95-b91d-4e14-891f-de4b4bb52fd4"
      },
      "execution_count": 27,
      "outputs": [
        {
          "output_type": "execute_result",
          "data": {
            "text/plain": [
              "tensor(1, device='cuda:0')"
            ]
          },
          "metadata": {},
          "execution_count": 27
        }
      ]
    },
    {
      "cell_type": "markdown",
      "source": [
        "Make a random tensor with shape `(1, 1, 1, 10)` and then create a new tensor with all the `1` dimensions removed to be left with a tensor of shape `(10)` Set the seed to `7` when you create it and print out the first tensor and its shape as well as the second tensor and its shape."
      ],
      "metadata": {
        "id": "DNT-kB0jdOj8"
      }
    },
    {
      "cell_type": "code",
      "source": [
        "torch.manual_seed(7)\n",
        "t = torch.rand(1, 1, 1, 10)\n",
        "t, t.shape"
      ],
      "metadata": {
        "colab": {
          "base_uri": "https://localhost:8080/"
        },
        "id": "uTe5LiubbBlv",
        "outputId": "6f44046e-4528-44fc-935a-4f053de12392"
      },
      "execution_count": 32,
      "outputs": [
        {
          "output_type": "execute_result",
          "data": {
            "text/plain": [
              "(tensor([[[[0.5349, 0.1988, 0.6592, 0.6569, 0.2328, 0.4251, 0.2071, 0.6297,\n",
              "            0.3653, 0.8513]]]]),\n",
              " torch.Size([1, 1, 1, 10]))"
            ]
          },
          "metadata": {},
          "execution_count": 32
        }
      ]
    },
    {
      "cell_type": "code",
      "source": [
        "t_squeezed = t.squeeze()\n",
        "t_squeezed, t_squeezed.shape"
      ],
      "metadata": {
        "colab": {
          "base_uri": "https://localhost:8080/"
        },
        "id": "CfknWjh4dy8S",
        "outputId": "f788bfef-5c15-4802-8edc-da94efb21ad2"
      },
      "execution_count": 41,
      "outputs": [
        {
          "output_type": "execute_result",
          "data": {
            "text/plain": [
              "(tensor([0.5349, 0.1988, 0.6592, 0.6569, 0.2328, 0.4251, 0.2071, 0.6297, 0.3653,\n",
              "         0.8513]),\n",
              " torch.Size([10]))"
            ]
          },
          "metadata": {},
          "execution_count": 41
        }
      ]
    },
    {
      "cell_type": "code",
      "source": [],
      "metadata": {
        "id": "G1dWJ9kxeHvb"
      },
      "execution_count": null,
      "outputs": []
    }
  ]
}