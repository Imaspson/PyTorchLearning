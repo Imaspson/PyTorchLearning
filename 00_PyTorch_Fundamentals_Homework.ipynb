{
  "nbformat": 4,
  "nbformat_minor": 0,
  "metadata": {
    "colab": {
      "provenance": [],
      "authorship_tag": "ABX9TyMHdu5ePRjdaFwPI+RMpvfA",
      "include_colab_link": true
    },
    "kernelspec": {
      "name": "python3",
      "display_name": "Python 3"
    },
    "language_info": {
      "name": "python"
    }
  },
  "cells": [
    {
      "cell_type": "markdown",
      "metadata": {
        "id": "view-in-github",
        "colab_type": "text"
      },
      "source": [
        "<a href=\"https://colab.research.google.com/github/Imaspson/PyTorchLearning/blob/main/00_PyTorch_Fundamentals_Homework.ipynb\" target=\"_parent\"><img src=\"https://colab.research.google.com/assets/colab-badge.svg\" alt=\"Open In Colab\"/></a>"
      ]
    },
    {
      "cell_type": "markdown",
      "source": [
        "Create a random tensor with shape `(7, 7)`"
      ],
      "metadata": {
        "id": "iPc2Di0Hs7GX"
      }
    },
    {
      "cell_type": "code",
      "execution_count": 1,
      "metadata": {
        "id": "2k62THiOsyLx"
      },
      "outputs": [],
      "source": [
        "import torch\n"
      ]
    },
    {
      "cell_type": "code",
      "source": [
        "rand_tensor = torch.rand(7, 7)\n",
        "rand_tensor"
      ],
      "metadata": {
        "colab": {
          "base_uri": "https://localhost:8080/"
        },
        "id": "lXfZB0Rf64ru",
        "outputId": "08a70e68-1deb-498e-eb8f-303cdebf1e22"
      },
      "execution_count": 2,
      "outputs": [
        {
          "output_type": "execute_result",
          "data": {
            "text/plain": [
              "tensor([[0.3923, 0.0073, 0.7587, 0.0053, 0.2214, 0.9827, 0.6858],\n",
              "        [0.1021, 0.1389, 0.1126, 0.4894, 0.2124, 0.0908, 0.6699],\n",
              "        [0.1467, 0.5600, 0.1059, 0.8423, 0.7321, 0.5696, 0.0738],\n",
              "        [0.1564, 0.6991, 0.0601, 0.9842, 0.0550, 0.1876, 0.6447],\n",
              "        [0.9033, 0.3530, 0.4508, 0.8307, 0.6374, 0.3191, 0.9053],\n",
              "        [0.3643, 0.9614, 0.4697, 0.4123, 0.1519, 0.8451, 0.3092],\n",
              "        [0.7424, 0.0072, 0.6939, 0.2602, 0.8691, 0.5077, 0.7048]])"
            ]
          },
          "metadata": {},
          "execution_count": 2
        }
      ]
    },
    {
      "cell_type": "markdown",
      "source": [
        "Perform a matrix multiplication on the tensor above with another tensor with shape `(1, 7)`"
      ],
      "metadata": {
        "id": "HE8idCbDCd2E"
      }
    },
    {
      "cell_type": "code",
      "source": [
        "second_rand_tensor = torch.rand(1, 7)\n",
        "second_rand_tensor.shape"
      ],
      "metadata": {
        "colab": {
          "base_uri": "https://localhost:8080/"
        },
        "id": "YGmbVmhz7AVu",
        "outputId": "8c2ddcba-aed1-41ac-bfa9-e31259e34e77"
      },
      "execution_count": 3,
      "outputs": [
        {
          "output_type": "execute_result",
          "data": {
            "text/plain": [
              "torch.Size([1, 7])"
            ]
          },
          "metadata": {},
          "execution_count": 3
        }
      ]
    },
    {
      "cell_type": "code",
      "source": [
        "transposed_second_tensor = second_rand_tensor.T\n",
        "transposed_second_tensor"
      ],
      "metadata": {
        "colab": {
          "base_uri": "https://localhost:8080/"
        },
        "id": "pHlzZ0p7CReX",
        "outputId": "f23dfa56-7676-4d05-e5da-9ff6d6552161"
      },
      "execution_count": 4,
      "outputs": [
        {
          "output_type": "execute_result",
          "data": {
            "text/plain": [
              "tensor([[0.2282],\n",
              "        [0.5841],\n",
              "        [0.7055],\n",
              "        [0.4686],\n",
              "        [0.9688],\n",
              "        [0.3404],\n",
              "        [0.9621]])"
            ]
          },
          "metadata": {},
          "execution_count": 4
        }
      ]
    },
    {
      "cell_type": "code",
      "source": [
        "result = torch.matmul(rand_tensor, transposed_second_tensor)\n",
        "result"
      ],
      "metadata": {
        "colab": {
          "base_uri": "https://localhost:8080/"
        },
        "id": "umeN7X_hCbjd",
        "outputId": "4f466e6e-53d2-401c-81cc-6fbeb6268b20"
      },
      "execution_count": 5,
      "outputs": [
        {
          "output_type": "execute_result",
          "data": {
            "text/plain": [
              "tensor([[1.8403],\n",
              "        [1.2944],\n",
              "        [1.8042],\n",
              "        [1.6851],\n",
              "        [2.7167],\n",
              "        [1.9015],\n",
              "        [2.4780]])"
            ]
          },
          "metadata": {},
          "execution_count": 5
        }
      ]
    },
    {
      "cell_type": "markdown",
      "source": [
        "Set the random seed to `0` and do exercises 2 & 3 again"
      ],
      "metadata": {
        "id": "3YTt6mCnC4yJ"
      }
    },
    {
      "cell_type": "code",
      "source": [
        "RANDOM_SEED = 0\n",
        "\n",
        "torch.manual_seed(RANDOM_SEED)\n",
        "first_one = torch.rand(7, 7)\n",
        "\n",
        "torch.manual_seed(RANDOM_SEED)\n",
        "second_one = torch.rand(1, 7)\n",
        "\n",
        "transposed_second_one = second_one.T\n",
        "new_res = torch.matmul(first_one, transposed_second_one)\n",
        "new_res\n"
      ],
      "metadata": {
        "colab": {
          "base_uri": "https://localhost:8080/"
        },
        "id": "mBCF8t8kCzAi",
        "outputId": "185247ba-81c7-48d0-a0d9-c807df23fc26"
      },
      "execution_count": 10,
      "outputs": [
        {
          "output_type": "execute_result",
          "data": {
            "text/plain": [
              "tensor([[1.5985],\n",
              "        [1.1173],\n",
              "        [1.2741],\n",
              "        [1.6838],\n",
              "        [0.8279],\n",
              "        [1.0347],\n",
              "        [1.2498]])"
            ]
          },
          "metadata": {},
          "execution_count": 10
        }
      ]
    },
    {
      "cell_type": "code",
      "source": [],
      "metadata": {
        "id": "832e7EGlDbT3"
      },
      "execution_count": null,
      "outputs": []
    }
  ]
}